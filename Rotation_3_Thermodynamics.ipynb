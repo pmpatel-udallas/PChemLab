{
  "cells": [
    {
      "cell_type": "markdown",
      "metadata": {
        "id": "view-in-github",
        "colab_type": "text"
      },
      "source": [
        "<a href=\"https://colab.research.google.com/github/pmpatel-udallas/PChemLab/blob/main/Rotation_3_Thermodynamics.ipynb\" target=\"_parent\"><img src=\"https://colab.research.google.com/assets/colab-badge.svg\" alt=\"Open In Colab\"/></a>"
      ]
    },
    {
      "cell_type": "markdown",
      "id": "355324eb",
      "metadata": {
        "id": "355324eb"
      },
      "source": [
        "# Rotation 3: Thermodynamics\n",
        "\n",
        "This module will focus on data filtering and how choosing the correct data will affect your results.\n",
        "\n",
        "In the previous module, you used data filtering by selecting specific elements. Now we are going to explore how to mathematically identify those sites using Python.\n",
        "\n",
        "And then as you are probably tired of doing tasks repetitively, let's learn about how to speed up the process using functions."
      ]
    },
    {
      "cell_type": "code",
      "execution_count": null,
      "id": "09c21a29",
      "metadata": {
        "id": "09c21a29"
      },
      "outputs": [],
      "source": [
        "# Import standard packages\n",
        "import numpy as np # Import numerical analysis\n",
        "import os,sys,re # Import regex\n",
        "import pandas as pd # DataFrame analysis\n",
        "\n",
        "#Spectra fitting - scipy\n",
        "from scipy import interpolate\n",
        "import scipy.optimize\n",
        "from scipy import stats\n",
        "\n",
        "\n",
        "# Plotting\n",
        "import matplotlib\n",
        "import matplotlib.pyplot as plt\n",
        "matplotlib.rcParams.update({'font.size': 20})\n",
        "matplotlib.rcParams.update({'font.family': 'Sans'})\n",
        "matplotlib.rcParams.update({'mathtext.fontset' : 'custom'})\n",
        "\n",
        "# Insert a progress bar to show the progress of the script\n",
        "!jupyter nbextension enable --py widgetsnbextension\n",
        "from tqdm.notebook import tqdm, tnrange, trange\n",
        "\n",
        "# Run the next two lines if you are linking your Google Drive\n",
        "#from google.colab import drive\n",
        "#drive.mount('/content/drive')"
      ]
    },
    {
      "cell_type": "markdown",
      "id": "7b72ea96",
      "metadata": {
        "id": "7b72ea96"
      },
      "source": [
        "# Lab 4: Adiabatic Expansion of Gases"
      ]
    },
    {
      "cell_type": "code",
      "execution_count": null,
      "id": "38c94f4e",
      "metadata": {
        "id": "38c94f4e"
      },
      "outputs": [],
      "source": [
        "# Import your data here\n",
        "# Save each trial as a new variable.\n"
      ]
    },
    {
      "cell_type": "code",
      "execution_count": null,
      "id": "62096a1a",
      "metadata": {
        "id": "62096a1a"
      },
      "outputs": [],
      "source": [
        "# Start by plotting your raw data to make sure your columns are labeled correct.\n",
        "\n"
      ]
    },
    {
      "cell_type": "markdown",
      "id": "fc605e63",
      "metadata": {
        "id": "fc605e63"
      },
      "source": [
        "You can select certain data points based on criteria you define within a square bracket term. For a dataframe, try to filter values by a certain criteria, like pressure > 110 and see what the result looks like.\n",
        "\n",
        "`data1[data1['Pressure']>110]`\n",
        "\n",
        "where data1 is a DataFrame of a spreadsheet, and the 'Pressure' term is the column name. Save this as a new variable dataframe (something like data2).\n",
        "\n",
        "Then plot it. For comparison, you can plot the original dataset on top of this information."
      ]
    },
    {
      "cell_type": "code",
      "source": [],
      "metadata": {
        "id": "G-kigYZKaByv"
      },
      "id": "G-kigYZKaByv",
      "execution_count": null,
      "outputs": []
    },
    {
      "cell_type": "markdown",
      "id": "1b9cd40c",
      "metadata": {
        "id": "1b9cd40c"
      },
      "source": [
        "Now let's think about how we need to filter the data to calculate p1, p2, and p3.\n",
        "\n",
        "<ul>\n",
        "<li> p1 is the ten data points right before the pressure drop\n",
        "\n",
        "<li> p2 is the singluar pressure value immediately following the drop\n",
        "\n",
        "<li> p3 is the last ten data points\n",
        "</ul>"
      ]
    },
    {
      "cell_type": "markdown",
      "id": "94b9d065",
      "metadata": {
        "id": "94b9d065"
      },
      "source": [
        "## 4.1 Calculate p1, p2, p3"
      ]
    },
    {
      "cell_type": "markdown",
      "id": "c722c914",
      "metadata": {
        "id": "c722c914"
      },
      "source": [
        "### 4.1.1 How do we figure out where to select points?\n",
        "\n",
        "**If we are looking for a point at the edge of the proverbial cliff, how do you think we can calculate where the edge of the cliff is?**"
      ]
    },
    {
      "cell_type": "markdown",
      "id": "0c2e1491",
      "metadata": {
        "id": "0c2e1491"
      },
      "source": [
        "There are a few functions that accomplish this. We will use the numpy difference (np.diff) function, which calculates the difference between adjacent indices in a row/column (specify axis=0 or axis=1).\n",
        "\n",
        "`np.diff()`\n",
        "\n",
        "\n",
        "**Use the np.diff function to calculate the difference between each value.**\n",
        "\n",
        "Store this array as a DataFrame, and then save that variable."
      ]
    },
    {
      "cell_type": "code",
      "execution_count": null,
      "id": "dfe24b70",
      "metadata": {
        "id": "dfe24b70"
      },
      "outputs": [],
      "source": []
    },
    {
      "cell_type": "markdown",
      "id": "41b0f1f4",
      "metadata": {
        "id": "41b0f1f4"
      },
      "source": [
        "Now create a conditional test as a filter to figure out which values have the largest differences by magnitude. You can also choose to focus on the largest negative difference--figure out which value it is.\n",
        "\n",
        "\n",
        "\n",
        "You can start with values > 0.5 and increment accordingly to figure out where to stop."
      ]
    },
    {
      "cell_type": "code",
      "execution_count": null,
      "id": "9bb14a4f",
      "metadata": {
        "id": "9bb14a4f"
      },
      "outputs": [],
      "source": []
    },
    {
      "cell_type": "code",
      "execution_count": null,
      "id": "f1dad1c5",
      "metadata": {
        "id": "f1dad1c5"
      },
      "outputs": [],
      "source": [
        "# Store the magic number so you don't have to type it out everytime.\n",
        "x="
      ]
    },
    {
      "cell_type": "code",
      "execution_count": null,
      "id": "05c055bc",
      "metadata": {
        "id": "05c055bc"
      },
      "outputs": [],
      "source": [
        "# Plot the data for this index to verify if it is indeed the correct value (x)\n",
        "\n",
        "# Then include the next index (x+1)\n",
        "\n",
        "# And finally the last point (iloc[-1])"
      ]
    },
    {
      "cell_type": "code",
      "execution_count": null,
      "id": "ac8531ae",
      "metadata": {
        "id": "ac8531ae"
      },
      "outputs": [],
      "source": [
        "# Calculate p1 as the average of the 10 point preceding the drop (x-10:x)\n",
        "\n",
        "\n",
        "# Calculate p2 as the value right after the drop (x+1)\n",
        "\n",
        "\n",
        "# Calculate p3 as the average of the last ten data points collected (.iloc[-10:])\n",
        "# Remember about the iloc and loc commands to choose data points from a DataFrame\\\n",
        "\n"
      ]
    },
    {
      "cell_type": "markdown",
      "source": [
        "### 4.1.2 Calculate the heat capacity ratio ($\\gamma$)"
      ],
      "metadata": {
        "id": "_NlWQvnXZ14c"
      },
      "id": "_NlWQvnXZ14c"
    },
    {
      "cell_type": "markdown",
      "source": [
        "Use your calculated data to calculate the heat capacity ratio ($\\gamma$) assuming the reaction is\n",
        "\n",
        "reversible\n",
        "\\begin{equation}\n",
        "\\gamma= \\dfrac{ln(p_1)-ln(p_2)}{ln(p_1)-ln(p_3)}\n",
        "\\end{equation}\n",
        "and irreversible\n",
        "\\begin{equation}\n",
        "\\gamma= \\dfrac{\\dfrac{p_1}{p_2}-1}{\\dfrac{p_1}{p_3}-1}\n",
        "\\end{equation}"
      ],
      "metadata": {
        "id": "xtvXmHN0qMmj"
      },
      "id": "xtvXmHN0qMmj"
    },
    {
      "cell_type": "code",
      "source": [
        "#Reversible\n",
        "\n"
      ],
      "metadata": {
        "id": "D5-zsVUHqM1K"
      },
      "id": "D5-zsVUHqM1K",
      "execution_count": null,
      "outputs": []
    },
    {
      "cell_type": "code",
      "execution_count": null,
      "id": "870c6505",
      "metadata": {
        "id": "870c6505"
      },
      "outputs": [],
      "source": [
        "#Irreversible\n",
        "\n"
      ]
    },
    {
      "cell_type": "markdown",
      "source": [
        "## 4.2 Use the heat capacities calculated from PSI4"
      ],
      "metadata": {
        "id": "MrCmZx6Nzf5-"
      },
      "id": "MrCmZx6Nzf5-"
    },
    {
      "cell_type": "code",
      "execution_count": null,
      "id": "e02dfd13",
      "metadata": {
        "id": "e02dfd13"
      },
      "outputs": [],
      "source": [
        "# Use the calculations of the heat capacities from the comp chem calculations to determine the heat capacities.\n",
        "# You code this.\n",
        "\n",
        "# Create numpy arrays of Cp and Cv to calculate gamma (Cp/Cv)\n",
        "Cp=\n",
        "Cv=\n",
        "Gamma=\n",
        "\n",
        "pd.DataFrame({'Cp':Cp,'Cv':Cv,'Gamma':Gamma},index=['Argon','Nitrogen','Propane'])"
      ]
    },
    {
      "cell_type": "markdown",
      "source": [
        "## 4.3 See [this section](#scrollTo=8GtN79tGBIq7&line=5&uniqifier=1) for final step on creating a function to help with reptitive tasks."
      ],
      "metadata": {
        "id": "Y-77zI6mA7mB"
      },
      "id": "Y-77zI6mA7mB"
    },
    {
      "cell_type": "markdown",
      "id": "53d9fba9",
      "metadata": {
        "id": "53d9fba9"
      },
      "source": [
        "# Lab 5: Freezing Point Depression"
      ]
    },
    {
      "cell_type": "code",
      "source": [
        "# Import your data here\n"
      ],
      "metadata": {
        "id": "pje1v1px1Z0g"
      },
      "id": "pje1v1px1Z0g",
      "execution_count": null,
      "outputs": []
    },
    {
      "cell_type": "code",
      "execution_count": null,
      "id": "92a7d021",
      "metadata": {
        "id": "92a7d021"
      },
      "outputs": [],
      "source": [
        "# A custom function to define the intersection between two lines\n",
        "# These use ordered pairs of line and calculates the intersection\n",
        "\n",
        "def line_intersection(line1, line2):\n",
        "    ''' Use Cramer's Rule from Linear Algebra to solve a system of two linear equations using matrices'''\n",
        "    xdiff = (line1[0][0] - line1[1][0], line2[0][0] - line2[1][0])\n",
        "    ydiff = (line1[0][1] - line1[1][1], line2[0][1] - line2[1][1])\n",
        "\n",
        "    def det(a, b):\n",
        "        ''' Calculate the determinant of a 2x2 matrix'''\n",
        "        return a[0] * b[1] - a[1] * b[0]\n",
        "\n",
        "    div = det(xdiff, ydiff)\n",
        "\n",
        "    # Define a case for no intersection\n",
        "    if div == 0:\n",
        "        raise Exception('lines do not intersect')\n",
        "\n",
        "    # Otherwise proceed as normal and calculate the value\n",
        "    d = (det(*line1), det(*line2))\n",
        "    x = det(d, xdiff) / div\n",
        "    y = det(d, ydiff) / div\n",
        "    return x, y"
      ]
    },
    {
      "cell_type": "markdown",
      "source": [
        "## 5.1 Moving averages\n",
        "\n",
        "A moving average calculates the average over a specified range and then propagates that average as it increases in index.\n",
        "Convert your data that is in a dataframe to the moving average.\n",
        "\n",
        "For example,\n",
        "\n",
        "```\n",
        "x = pd.DataFrame([0,0,0,1,1,1,2,2,2])\n",
        "y = x.rolling(3).mean().dropna()\n",
        "print(y)\n",
        "\n",
        "# Output from moving average\n",
        "2 0.000\n",
        "3 0.333\n",
        "4 0.667\n",
        "5 1.000\n",
        "6 1.333\n",
        "7 1.667\n",
        "8 2.000\n",
        "```"
      ],
      "metadata": {
        "id": "ZAIxcwdSRC-M"
      },
      "id": "ZAIxcwdSRC-M"
    },
    {
      "cell_type": "code",
      "source": [
        "# Calculate the moving average of your temperature data (use 25 to 30 for the moving average)\n",
        "\n",
        "\n",
        "\n",
        "# These settings will help the contrast for visualizing the data\n",
        "# Plot the raw data (use alpha=0.5)\n",
        "\n",
        "\n",
        "# Plot the moving average (use lw=3)\n",
        "\n",
        "\n",
        "\n",
        "# Export the figure in high resolution\n"
      ],
      "metadata": {
        "id": "WS7wHebERppT"
      },
      "id": "WS7wHebERppT",
      "execution_count": null,
      "outputs": []
    },
    {
      "cell_type": "markdown",
      "source": [
        "## 5.2 How do we figure out where to select points?\n",
        "\n",
        "There are a few functions that accomplish this. We will use the numpy difference (np.diff) function, which calculates the difference between adjacent indices in a row/column (specify axis=0 or axis=1).\n",
        "\n",
        "`np.diff()`\n",
        "\n",
        "\n",
        "**Use the np.diff function to calculate the difference between each value.**\n",
        "\n",
        "Store this array as a DataFrame, and then save that variable."
      ],
      "metadata": {
        "id": "eCbC75KmXZpj"
      },
      "id": "eCbC75KmXZpj"
    },
    {
      "cell_type": "code",
      "source": [
        "# Use the np.diff function\n",
        "\n",
        "\n",
        "\n",
        "# You may need to calculate the rolling average of the difference data to make sense of it\n",
        "\n",
        "\n"
      ],
      "metadata": {
        "id": "-L78fv4Jb-LU"
      },
      "id": "-L78fv4Jb-LU",
      "execution_count": null,
      "outputs": []
    },
    {
      "cell_type": "markdown",
      "source": [
        "You can select certain data points based on criteria you define within a square bracket term. For a dataframe, try to filter values by a certain criteria, like T < 0.01 and see what the result looks like.\n",
        "\n",
        "`data1[data1['Temperature']<0.01]`\n",
        "\n",
        "where data1 is a DataFrame of a spreadsheet, and the 'Temperature' term is the column name. Save this as a new variable dataframe (something like data2).\n",
        "\n",
        "Then plot it. For comparison, you can plot the original dataset on top of this information to see what it looks like."
      ],
      "metadata": {
        "id": "6AvfIAGegxeX"
      },
      "id": "6AvfIAGegxeX"
    },
    {
      "cell_type": "code",
      "source": [
        "# Plot the info here\n",
        "\n",
        "\n"
      ],
      "metadata": {
        "id": "_8tSFr_KhnxT"
      },
      "id": "_8tSFr_KhnxT",
      "execution_count": null,
      "outputs": []
    },
    {
      "cell_type": "code",
      "source": [
        "# Use filters (dT < 0.0001) to try and isolate the point(s) to select for the linear lines\n",
        "# pre and post-supercooling\n",
        "\n"
      ],
      "metadata": {
        "id": "Eq0ZXBJhhtDr"
      },
      "id": "Eq0ZXBJhhtDr",
      "execution_count": null,
      "outputs": []
    },
    {
      "cell_type": "markdown",
      "source": [
        "# Creating functions to avoid doing duplicate tasks\n",
        "\n",
        "Create a function to import your data and calculate the heat capacities based on your code.\n",
        "\n",
        "Combine the different aspects using your data to calculate the values you want with ease. This way, you don't have to repeat the same calculations and change variables every single time you introduce a new dataset.\n",
        "\n",
        "Use\n",
        "\n",
        "```\n",
        "def calculate_p1(data,x1=164,...)\n",
        "  # Code to calculate p1\n",
        "  p1=...\n",
        "  return p1\n",
        "```\n"
      ],
      "metadata": {
        "id": "8GtN79tGBIq7"
      },
      "id": "8GtN79tGBIq7"
    },
    {
      "cell_type": "code",
      "source": [
        "# An example of how you can combine various tasks to determine Tfusion for Lab 5\n",
        "# Create the best fit lines based on different values of t\n",
        "# You can creat a version of this function later to calculate Tfus based on your inputs\n",
        "\n",
        "def determine_Tfus(data1,t1=50,w1=75,t2=125,w2=200):\n",
        "    # Create a sample figure\n",
        "    fig = plt.figure()\n",
        "\n",
        "    # Calculate the rolling average (moving average)\n",
        "    data1a=data1.rolling(61).mean().dropna()\n",
        "\n",
        "    # Plot the original data and the rolling average\n",
        "    plt.plot(data1a['Time (sec):'],data1a['Temp (C):'],lw=3)\n",
        "    plt.plot(data1['Time (sec):'],data1['Temp (C):'],alpha=0.5,color='C0')\n",
        "\n",
        "    # Find the data for the linear line pre-supercooling\n",
        "    data1b=data1[data1['Time (sec):']<=t1]\n",
        "    bestfit1=scipy.stats.linregress(data1b['Time (sec):'],data1b['Temp (C):'])\n",
        "\n",
        "    # Best Fit Line (pre-supercooling)\n",
        "    X = np.linspace(0,w1,100)\n",
        "    Y = bestfit1.slope*X+bestfit1.intercept\n",
        "\n",
        "    # Find the data for the linear line post-supercooling\n",
        "    data1c=data1[data1['Time (sec):']>=t2]\n",
        "    bestfit2=scipy.stats.linregress(data1c['Time (sec):'],data1c['Temp (C):'])\n",
        "\n",
        "    # Best Fit Line (post-supercooling)\n",
        "    X2 = np.linspace(0,w2,100)\n",
        "    Y2 = bestfit2.slope*X2+bestfit2.intercept\n",
        "\n",
        "    # Plot the best fit lines\n",
        "    plt.plot(X,Y,'k--')\n",
        "    plt.plot(X2,Y2,'k--')\n",
        "\n",
        "    # Create the ordered pairs\n",
        "    l1=[[X[0],Y[0]],[X[-1],Y[-1]]]\n",
        "    l2=[[X2[0],Y2[0]],[X2[-1],Y2[-1]]]\n",
        "\n",
        "    # Calculate the intersection and return the coordinates\n",
        "    x,y=line_intersection(l1,l2)\n",
        "\n",
        "    # Export the figure\n",
        "    #fig.savefig('test')\n",
        "\n",
        "    return np.array([x, y])"
      ],
      "metadata": {
        "id": "BLaUuSG1BIai"
      },
      "id": "BLaUuSG1BIai",
      "execution_count": null,
      "outputs": []
    },
    {
      "cell_type": "markdown",
      "source": [
        "*   You can copy and paste your code from either section above here.\n",
        "*   Find the variables that you know you will need to replace between runs to create the function\n",
        "*   Then create the function to do the task that you want it to be able to repeat for whatever set of data you want it to\n",
        "\n",
        "This will allow you to create a function to automate a task and not have to worry about copying multiple blocks of code depending on your data."
      ],
      "metadata": {
        "id": "SEHf_nCMprcB"
      },
      "id": "SEHf_nCMprcB"
    },
    {
      "cell_type": "code",
      "source": [],
      "metadata": {
        "id": "U36JQLNrRAcA"
      },
      "id": "U36JQLNrRAcA",
      "execution_count": null,
      "outputs": []
    }
  ],
  "metadata": {
    "kernelspec": {
      "display_name": "Python 3 (ipykernel)",
      "language": "python",
      "name": "python3"
    },
    "language_info": {
      "codemirror_mode": {
        "name": "ipython",
        "version": 3
      },
      "file_extension": ".py",
      "mimetype": "text/x-python",
      "name": "python",
      "nbconvert_exporter": "python",
      "pygments_lexer": "ipython3",
      "version": "3.9.15"
    },
    "colab": {
      "provenance": [],
      "toc_visible": true,
      "include_colab_link": true
    }
  },
  "nbformat": 4,
  "nbformat_minor": 5
}