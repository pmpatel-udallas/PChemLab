{
 "cells": [
  {
   "cell_type": "markdown",
   "metadata": {
    "id": "kNfTUo7Pl_hl"
   },
   "source": [
    "## Installing RDkit\n",
    "\n",
    "We will first install [conda](https://pypi.org/project/condacolab/) package manager then install all the packages that we need. In this case, RDKit. You can use this method to install other packages in colab"
   ]
  },
  {
   "cell_type": "code",
   "execution_count": null,
   "metadata": {
    "id": "ysrKkFl-5X5E"
   },
   "outputs": [],
   "source": [
    "!pip install -q condacolab\n",
    "import condacolab\n",
    "condacolab.install()"
   ]
  },
  {
   "cell_type": "markdown",
   "metadata": {
    "id": "Hw3tnPWUmqG-"
   },
   "source": [
    "After you see the kernel restarting (you will get a notification that the seesion has crashed from unknown reason), run the following cell. The expected output is \"**Everything looks OK**!\""
   ]
  },
  {
   "cell_type": "code",
   "execution_count": null,
   "metadata": {
    "id": "Dh75M5TNmpgD"
   },
   "outputs": [],
   "source": [
    "import condacolab\n",
    "condacolab.check()"
   ]
  },
  {
   "cell_type": "markdown",
   "metadata": {
    "id": "N_ewQXeVnBQY"
   },
   "source": [
    "Now the conda environment is set up, let us install the packages that we need - rdkit. We will use **conda install** to get **rdkit** package from conda-forge channel (**-c**)."
   ]
  },
  {
   "cell_type": "code",
   "execution_count": null,
   "metadata": {
    "id": "vzqtmNhQ6Byl"
   },
   "outputs": [],
   "source": [
    "!conda install -c conda-forge rdkit"
   ]
  },
  {
   "cell_type": "markdown",
   "metadata": {
    "id": "42EGkaHxo136"
   },
   "source": [
    "## Importing required definitions"
   ]
  },
  {
   "cell_type": "code",
   "execution_count": null,
   "metadata": {
    "id": "VzO0t7KroHb4"
   },
   "outputs": [],
   "source": [
    "from rdkit import Chem # A core definition\n",
    "from rdkit.Chem.Draw import MolsToGridImage # For displaying multiple molecules\n",
    "from rdkit.Chem.AllChem import * # conformer generation and adding H \n",
    "from rdkit.Chem.rdMolDescriptors import * # To calculate descriptors\n",
    "from rdkit.Chem.Draw import IPythonConsole # This displays the molecule in-line\n",
    "from rdkit.Chem import PandasTools # for pandas dataframe with rdkit\n",
    "import pandas as pd \n",
    "from rdkit.DataStructs.cDataStructs import ConvertToNumpyArray\n",
    "import numpy as np\n",
    "import matplotlib.pyplot as plt"
   ]
  },
  {
   "cell_type": "markdown",
   "metadata": {
    "id": "oAphVQqfo-B8"
   },
   "source": [
    "Representing molecules as strings is done with SMILES. Simplified molecular-input line-entry system (SMILES) is a string based representation of a molecule. (https://en.wikipedia.org/wiki/Simplified_molecular-input_line-entry_system) For example n-butane is represented as CCCC. Interactive RDKit demo for SMILES is available at https://rdkit.org/temp/demo/demo.html"
   ]
  },
  {
   "cell_type": "code",
   "execution_count": null,
   "metadata": {
    "id": "MPpiyfmGo8Fk"
   },
   "outputs": [],
   "source": [
    "# creating a molecule object from SMILES of n-buane\n",
    "mol = Chem.MolFromSmiles(\"CC=CC\")\n",
    "mol"
   ]
  },
  {
   "cell_type": "markdown",
   "metadata": {
    "id": "UqAISfVtwOgH"
   },
   "source": [
    "The molecule object has atom objects which can be used for some operations"
   ]
  },
  {
   "cell_type": "code",
   "execution_count": null,
   "metadata": {
    "id": "Fk9c0gOtwcGW"
   },
   "outputs": [],
   "source": [
    "# Get the number of atoms and types of atoms\n",
    "\n",
    "for idx, atom in enumerate(mol.GetAtoms()):\n",
    "  print(\"Atom\", idx + 1,\"has atomic number of\",atom.GetAtomicNum())\n",
    "\n",
    "print()\n",
    "# available methods for atoms\n",
    "# dir(atom)"
   ]
  },
  {
   "cell_type": "markdown",
   "metadata": {
    "id": "nqgnsQmOyiUC"
   },
   "source": [
    "Similar to atoms, the bonds list can also be retrieved."
   ]
  },
  {
   "cell_type": "code",
   "execution_count": null,
   "metadata": {
    "id": "Ml4KflGCyst3"
   },
   "outputs": [],
   "source": [
    "# Here we will get the tyrp of bond whether single,double\n",
    "for idx,bond in enumerate(mol.GetBonds()):\n",
    "  print(\"Bond\",idx+1,\"the type of bond is\",bond.GetBondType().name)\n",
    "\n",
    "print()\n",
    "# available methods for bonds\n",
    "# dir(bond)"
   ]
  },
  {
   "cell_type": "markdown",
   "metadata": {
    "id": "9Q-ZB89N0sqn"
   },
   "source": [
    "## **Try it yourself!**\n",
    "Find the molecule that has -\n",
    "\n",
    " 1) highest number of atoms\n",
    "\n",
    " 2) highest number of rings\n",
    "\n",
    " 2) highest number of double bonds\n",
    "\n",
    " 3) largest number of non-carbon atoms (atoms not C or H)\n",
    "\n",
    " The list of smiles is given to you. There are 133885 smiles. You can consider is smaller set of smiles by slicing the list (e.g. smiles_list_500 = smiles_list[:500])"
   ]
  },
  {
   "cell_type": "code",
   "execution_count": null,
   "metadata": {
    "id": "fwcW6j_w2rAR"
   },
   "outputs": [],
   "source": [
    "# DO NOT EDIT THE CODE IN THE CELL\n",
    "# run this code before you work on the solution to the exercise\n",
    "! wget https://raw.githubusercontent.com/vinayak2019/chemistry_python_intermediate/main/H_smiles.dat\n",
    "\n",
    "# read the file with smiles\n",
    "with open(\"H_smiles.dat\",\"r\") as f:\n",
    "    smiles_file = f.read()\n",
    "\n",
    "# clean the files to generate list of smiles\n",
    "smiles_list = smiles_file.strip().split(\"\\n\")\n",
    "print(\"The number of smiles in the list is\",len(smiles_list))\n"
   ]
  },
  {
   "cell_type": "code",
   "execution_count": null,
   "metadata": {
    "id": "D3yHfk3r4bxT"
   },
   "outputs": [],
   "source": [
    "# YOUR CODE HERE"
   ]
  },
  {
   "cell_type": "markdown",
   "metadata": {
    "id": "6Co4WnEErVT8"
   },
   "source": [
    "## Generating the 3D structure\n",
    "The molecule generated from smiles has no hydrogen atoms nor the co-ordinates for the atoms (conformer). To generate 3D descriptors of a molecule for machine learning, we need a 3D structure/conformer. 2D descriptors may not need conformer."
   ]
  },
  {
   "cell_type": "code",
   "execution_count": null,
   "metadata": {
    "id": "yMW7fW-nqdd0"
   },
   "outputs": [],
   "source": [
    "# Calculation of molecular weight with hydrogen atoms\n",
    "CalcExactMolWt(mol)"
   ]
  },
  {
   "cell_type": "code",
   "execution_count": null,
   "metadata": {
    "id": "r13aiEhdrzi7"
   },
   "outputs": [],
   "source": [
    "# Computing a 3D descriptor - radius of gyration\n",
    "CalcRadiusOfGyration(mol)"
   ]
  },
  {
   "cell_type": "code",
   "execution_count": null,
   "metadata": {
    "id": "qWmBYEwjr5do"
   },
   "outputs": [],
   "source": [
    "# checking whether the molecule object has a conformer\n",
    "mol.GetNumConformers()"
   ]
  },
  {
   "cell_type": "code",
   "execution_count": null,
   "metadata": {
    "id": "iKVBSrY_tIpf"
   },
   "outputs": [],
   "source": [
    "# Let's add confomer and hydrogens to the molecule\n",
    "mol_h = AddHs(mol)\n",
    "print(\"Number of conformers is \", mol_h.GetNumConformers())\n",
    "print(Chem.MolToMolBlock(mol_h))\n",
    "mol_h"
   ]
  },
  {
   "cell_type": "markdown",
   "metadata": {
    "id": "b3u90-AlvtNL"
   },
   "source": [
    "Always add hydrogen before conformer generation."
   ]
  },
  {
   "cell_type": "code",
   "execution_count": null,
   "metadata": {
    "id": "yyGoqkhau21x"
   },
   "outputs": [],
   "source": [
    "# adding conformer\n",
    "EmbedMolecule(mol_h)\n",
    "print(\"Number of conformers is \", mol_h.GetNumConformers())\n",
    "print(Chem.MolToMolBlock(mol_h))"
   ]
  },
  {
   "cell_type": "markdown",
   "metadata": {
    "id": "hkft1iqPv-CM"
   },
   "source": [
    "Adding multiple conformers. You can use a forcefield to optimize the structure and compute energy."
   ]
  },
  {
   "cell_type": "code",
   "execution_count": null,
   "metadata": {
    "id": "pH6qOBMhvMoh"
   },
   "outputs": [],
   "source": [
    "# Generating 50 conformers for the molecule\n",
    "EmbedMultipleConfs(mol_h,numConfs=50)\n",
    "print(\"Number of conformers is \", mol_h.GetNumConformers())"
   ]
  },
  {
   "cell_type": "markdown",
   "metadata": {
    "id": "TXKOI3ujCJ2c"
   },
   "source": [
    "# **Try it yourself**\n",
    "\n",
    "Plot the distribution of molecular volume (ComputeMolVolume) for the molecules in the smiles_list\n"
   ]
  },
  {
   "cell_type": "code",
   "execution_count": null,
   "metadata": {
    "id": "lp_XdjyCWyXl"
   },
   "outputs": [],
   "source": [
    "# YOUR CODE HERE\n"
   ]
  },
  {
   "cell_type": "markdown",
   "metadata": {
    "id": "3PnpWVx58AtE"
   },
   "source": [
    "## Dataframe\n",
    "Creating a pandas dataframe for storing data is possible with PandasTools. "
   ]
  },
  {
   "cell_type": "code",
   "execution_count": null,
   "metadata": {
    "id": "t_O4D2Hkv4K2"
   },
   "outputs": [],
   "source": [
    "# First create a pandas dataframe with SMILES as a column. sample(500) gets\n",
    "# 500 entries from the larger set of 133885 molecules  \n",
    "df = pd.DataFrame(smiles_list, columns=[\"smiles\"]).sample(500)\n",
    "df.head() # to look the the first 5 entries"
   ]
  },
  {
   "cell_type": "code",
   "execution_count": null,
   "metadata": {
    "id": "SU7x3oH29Gm7"
   },
   "outputs": [],
   "source": [
    "# using pandastools to create molecule from smiles within the dataframe\n",
    "PandasTools.AddMoleculeColumnToFrame(df,smilesCol=\"smiles\")\n",
    "df.head() "
   ]
  },
  {
   "cell_type": "markdown",
   "metadata": {
    "id": "WilEXgpgEnYS"
   },
   "source": [
    "Now that we have the molecule objects, we can generate the input and the target values for machine learning. We will use the number of rings as the target value and molecular fingerprint as the input. You can find more details on molecular fingerprints [here](https://docs.chemaxon.com/display/docs/chemical-fingerprints.md)\n",
    "\n"
   ]
  },
  {
   "cell_type": "code",
   "execution_count": null,
   "metadata": {
    "id": "sTFcHWRnGaMR"
   },
   "outputs": [],
   "source": [
    "# generating the target values - molecular weights.\n",
    "# we use the CalcExactMolWt function from rdkit\n",
    "df[\"target\"] = df[\"ROMol\"].apply(CalcNumRings)\n",
    "df.head()"
   ]
  },
  {
   "cell_type": "markdown",
   "metadata": {
    "id": "jZloDMATSxuo"
   },
   "source": [
    "## Generate the Morgan fingerprints\n"
   ]
  },
  {
   "cell_type": "code",
   "execution_count": null,
   "metadata": {
    "id": "SJ6IRqfjG0Aq"
   },
   "outputs": [],
   "source": [
    "# we define a function to generate a vector from a molecule object\n",
    "\n",
    "def get_input(mol):\n",
    "  fp = GetMorganFingerprintAsBitVect(mol, 2, nBits=100) # gets the vector\n",
    "  arr = np.zeros((0,))\n",
    "  ConvertToNumpyArray(fp,arr)  # converts the vector to numpy array\n",
    "  return arr\n",
    "\n",
    "df[\"input\"] = df[\"ROMol\"].apply(get_input) # adding the input column to the dataframe\n",
    "df.head()"
   ]
  },
  {
   "cell_type": "markdown",
   "metadata": {
    "id": "OQ5hyJl1SR9E"
   },
   "source": [
    "# Machine learning model\n",
    "\n",
    "In the previous cells we have the the input and target values for the machine learning model. Let us now get the data in the right format to train a model. "
   ]
  },
  {
   "cell_type": "code",
   "execution_count": null,
   "metadata": {
    "id": "h7-MRO_xH360"
   },
   "outputs": [],
   "source": [
    "# The input values must be in the for of a vector/list\n",
    "# Here we assign the values from the dataframe to X and y\n",
    "X = df[\"input\"].values.tolist()\n",
    "y = df[\"target\"].values.tolist()\n",
    "print(\"Input\",X[0])\n",
    "print(\"Target\",y[0])"
   ]
  },
  {
   "cell_type": "markdown",
   "metadata": {
    "id": "MBfpQz_pTn1Y"
   },
   "source": [
    "We always split the data into train and test set. The train set values are used for training while the test set is used to evalute the model. We will use a random forrest classifier as our model. You can find more details on random forrest [here](https://en.wikipedia.org/wiki/Random_forest)"
   ]
  },
  {
   "cell_type": "code",
   "execution_count": null,
   "metadata": {
    "id": "CJyh6A1w-KCw"
   },
   "outputs": [],
   "source": [
    "from sklearn.ensemble import RandomForestClassifier, RandomForestRegressor\n",
    "from sklearn.model_selection import train_test_split\n",
    "from sklearn import metrics\n",
    "import seaborn as sns\n",
    "\n",
    "X_train, X_test, y_train, y_test = train_test_split(X,y, test_size=0.2,random_state=42) # split data for training and testing\n",
    "model = RandomForestClassifier(random_state=42) # initialize the model\n",
    "model.fit(X_train, y_train) # train the model\n",
    "y_predict = model.predict(X_test) # get prediction on the test set\n"
   ]
  },
  {
   "cell_type": "markdown",
   "metadata": {
    "id": "v2Go7K4sUbhU"
   },
   "source": [
    "For evaluation of the model we use confusion matrix. The x-axis is the true value and the y-axis is the predicted value"
   ]
  },
  {
   "cell_type": "code",
   "execution_count": null,
   "metadata": {
    "id": "UFMHpARPQunx"
   },
   "outputs": [],
   "source": [
    "confusion_mat = metrics.confusion_matrix(y_predict,y_test)\n",
    "sns.heatmap(confusion_mat,annot=True,cmap=\"Blues\",cbar=False)"
   ]
  },
  {
   "cell_type": "markdown",
   "metadata": {
    "id": "mfkNlcSYU9lW"
   },
   "source": [
    "## **Try it yourself**\n",
    "\n",
    "1) Use random forest classifer for classification based on number of rings but try changing the nBits value to check if the model improves. In the above example, nBits was 100 "
   ]
  },
  {
   "cell_type": "code",
   "execution_count": null,
   "metadata": {
    "id": "oi9500VwVh5e"
   },
   "outputs": [],
   "source": [
    "# YOUR CODE HERE"
   ]
  },
  {
   "cell_type": "markdown",
   "metadata": {
    "id": "Duq2CaJyVC9m"
   },
   "source": [
    "2) Use random forrest regressor for predicting the molecular mass. You can use metric.mean_squared_error for evaluating the model."
   ]
  },
  {
   "cell_type": "code",
   "execution_count": null,
   "metadata": {
    "id": "mxq1k1P3VBrW"
   },
   "outputs": [],
   "source": [
    "# YOUR CODE HERE"
   ]
  }
 ],
 "metadata": {
  "colab": {
   "collapsed_sections": [],
   "name": "Introduction_RDkit_ML.ipynb",
   "provenance": []
  },
  "kernelspec": {
   "display_name": "Python 3 (ipykernel)",
   "language": "python",
   "name": "python3"
  },
  "language_info": {
   "codemirror_mode": {
    "name": "ipython",
    "version": 3
   },
   "file_extension": ".py",
   "mimetype": "text/x-python",
   "name": "python",
   "nbconvert_exporter": "python",
   "pygments_lexer": "ipython3",
   "version": "3.9.16"
  }
 },
 "nbformat": 4,
 "nbformat_minor": 1
}
