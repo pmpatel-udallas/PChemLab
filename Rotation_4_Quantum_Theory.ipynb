{
  "nbformat": 4,
  "nbformat_minor": 0,
  "metadata": {
    "colab": {
      "provenance": [],
      "collapsed_sections": [
        "eDnT_HovRmWL"
      ],
      "toc_visible": true,
      "authorship_tag": "ABX9TyNmvR1zPQ36wf4xnoFCHa5p",
      "include_colab_link": true
    },
    "kernelspec": {
      "name": "python3",
      "display_name": "Python 3"
    },
    "language_info": {
      "name": "python"
    }
  },
  "cells": [
    {
      "cell_type": "markdown",
      "metadata": {
        "id": "view-in-github",
        "colab_type": "text"
      },
      "source": [
        "<a href=\"https://colab.research.google.com/github/pmpatel-udallas/PChemLab/blob/main/Rotation_4_Quantum_Theory.ipynb\" target=\"_parent\"><img src=\"https://colab.research.google.com/assets/colab-badge.svg\" alt=\"Open In Colab\"/></a>"
      ]
    },
    {
      "cell_type": "markdown",
      "source": [
        "# Rotation 4: Quantum Theory\n",
        "\n",
        "This last module will go over how to do \"advanced\" Matplotlib plotting to include various features as well as using a solver to solve the equations for a finite well."
      ],
      "metadata": {
        "id": "cqQHe3zzEwc_"
      }
    },
    {
      "cell_type": "markdown",
      "source": [
        "## Import Packages"
      ],
      "metadata": {
        "id": "KKwRG2Yf2sx3"
      }
    },
    {
      "cell_type": "code",
      "execution_count": 1,
      "metadata": {
        "id": "3W4x_m5oERYL",
        "colab": {
          "base_uri": "https://localhost:8080/"
        },
        "outputId": "97838179-9730-46fa-d167-754c662677be"
      },
      "outputs": [
        {
          "output_type": "stream",
          "name": "stdout",
          "text": [
            "Enabling notebook extension jupyter-js-widgets/extension...\n",
            "Paths used for configuration of notebook: \n",
            "    \t/root/.jupyter/nbconfig/notebook.json\n",
            "Paths used for configuration of notebook: \n",
            "    \t\n",
            "      - Validating: \u001b[32mOK\u001b[0m\n",
            "Paths used for configuration of notebook: \n",
            "    \t/root/.jupyter/nbconfig/notebook.json\n"
          ]
        }
      ],
      "source": [
        "import numpy as np\n",
        "from numpy import *\n",
        "import os,sys,re # Import regex\n",
        "import pandas as pd # DataFrame analysis\n",
        "\n",
        "# Plotting\n",
        "import matplotlib\n",
        "matplotlib.rcParams.update({'font.size': 20})\n",
        "import matplotlib.pyplot as plt\n",
        "\n",
        "from mpl_toolkits.axes_grid1.inset_locator import inset_axes\n",
        "from mpl_toolkits.mplot3d import Axes3D # 3D plots\n",
        "from matplotlib import cm # Colormaps\n",
        "from matplotlib.colors import ListedColormap, LinearSegmentedColormap\n",
        "from mpl_toolkits.axes_grid1 import make_axes_locatable\n",
        "\n",
        "#Inset figures into plots\n",
        "from matplotlib.offsetbox import TextArea, DrawingArea, OffsetImage, AnnotationBbox\n",
        "import matplotlib.image as mpimg\n",
        "\n",
        "#Create lines for custom legends\n",
        "import matplotlib.lines as mlines\n",
        "from matplotlib.lines import Line2D\n",
        "\n",
        "from glob import glob\n",
        "\n",
        "# Insert a progress bar to show the progress of the script\n",
        "!jupyter nbextension enable --py widgetsnbextension\n",
        "from tqdm.notebook import tqdm, tnrange, trange"
      ]
    },
    {
      "cell_type": "markdown",
      "source": [
        "## 6.1 Combining Experimental and Computational Spectra"
      ],
      "metadata": {
        "id": "kjNoJMp09tte"
      }
    },
    {
      "cell_type": "markdown",
      "source": [
        "### 6.1.1 Converting the computed values to a spectrum\n",
        "\n",
        "The extracted results from the ORCA calculations contain information about the excitation wavelength ($\\lambda$) and the oscillator strength ($f$). You will need to broaden each transition using\n",
        "\n",
        "$$\\varepsilon_i(\\lambda)=1.3062974*10^8\\dfrac{f_i}{\\sigma} \\text{exp}\\bigg[-\\bigg(\\dfrac{1/\\lambda-1/\\lambda_i}{\\sigma}\\bigg)^2\\bigg] \\ \\ \\ \\ \\ \\ (1)$$\n",
        "\n",
        "where $i$ represents the $i^\\text{th}$ electronic excitation, $\\lambda$ is the excitation wavelength in nm, $f_i$ is the oscillator strength (a.u.), and $\\sigma$ is the parameter for peak broadening. Setting $\\sigma$ = 0.2 eV = 1/6199.2 nm$^{-1}$ = 10$^{7}$/6199.2 cm$^{-1}$ will result in the following reduction\n",
        "\n",
        "$$\t\\varepsilon_i(\\lambda)=1.3062974*10^8\\dfrac{f_i}{10^{7}/6199.2} \\text{exp}\\bigg[-\\bigg(\\dfrac{1/\\lambda-1/\\lambda_i}{1/6199.2}\\bigg)^2\\bigg] \\ \\ \\ \\ \\ \\ (2)\n",
        "$$\n",
        "\n",
        "Equation 2 above refers to how to broaden a single transition whereas the next equation covers how to do the sum of all the individual excitations.\n",
        "\n",
        "$$\n",
        "\t\\varepsilon(\\lambda)=\\sum_{i=1}^{n}\\varepsilon_i(\\lambda)=\\sum_{i=1}^{n}\\bigg(1.3062974*10^8\\dfrac{f_i}{10^{7}/6199.2} \\text{exp}\\bigg[-\\bigg(\\dfrac{1/\\lambda-1/\\lambda_i}{1/6199.2}\\bigg)^2\\bigg]\\bigg) \\ \\ \\ \\ \\ \\ (3)\n",
        "$$\n",
        "\n",
        "In Equation 3, your wavelengths ($\\lambda$) are the x-values and $\\lambda_i$ is the computed wavelength corresponding to the transition with oscillator strength $f_i$.\n",
        "\n",
        "Below is the Python form of Equation 2."
      ],
      "metadata": {
        "id": "JuCwY_Ea22Hu"
      }
    },
    {
      "cell_type": "code",
      "source": [
        "def e(X,h,f,sigma=1/3099.6/2.5):\n",
        "  f2=10**7*sigma\n",
        "\n",
        "  A=1.3062974*10**8\n",
        "  e1=1/h-1/X\n",
        "  return A*(f/f2)*np.exp(-(e1/sigma)**2)"
      ],
      "metadata": {
        "id": "intqfci6-1qM"
      },
      "execution_count": null,
      "outputs": []
    },
    {
      "cell_type": "markdown",
      "source": [
        "### 6.1.2 Importing inset figures into matplotlib plots\n",
        "\n",
        "Sometimes, you don't want to use PowerPoint or other software to combine images together because of loss of resolution, or the extra time to make sure everything is correct. So there are packages to create offset images that we can use to import images into a matplotlib figure."
      ],
      "metadata": {
        "id": "nu1kbb8c9eAu"
      }
    },
    {
      "cell_type": "code",
      "source": [
        "#Packages to Inset figures into plots\n",
        "from matplotlib.offsetbox import TextArea, DrawingArea, OffsetImage, AnnotationBbox\n",
        "import matplotlib.image as mpimg"
      ],
      "metadata": {
        "id": "J8lk6jgx_IkY"
      },
      "execution_count": null,
      "outputs": []
    },
    {
      "cell_type": "markdown",
      "source": [
        "### 6.1.3 Import your experimental and computational data\n",
        "\n",
        "The experimental data from the UV-vis will be in a csv format, so use `pd.read_csv()` instead of `pd.read_excel()`.\n",
        "\n",
        "The computed spectra"
      ],
      "metadata": {
        "id": "Y1SireUW91rh"
      }
    },
    {
      "cell_type": "code",
      "source": [
        "# Import your experimental data\n"
      ],
      "metadata": {
        "id": "8HbKRqsX_RS4"
      },
      "execution_count": null,
      "outputs": []
    },
    {
      "cell_type": "markdown",
      "source": [
        "### 6.1.4 For loops\n",
        "\n",
        "In Python, a **`for` loop** is used to iterate over a sequence, such as a list, tuple, string, or range, allowing you to execute a block of code repeatedly for each item in the sequence.\n",
        "\n",
        "\n",
        "#### 1. Basic Syntax\n",
        "```python\n",
        "for variable in sequence:\n",
        "    # code block\n",
        "```\n",
        "\n",
        "*   variable: A placeholder for each element in the sequence.\n",
        "*   sequence: The collection (e.g., list, tuple, string) you want to iterate over.\n",
        "\n",
        "Example:\n",
        "```python\n",
        "fruits = ['apple', 'banana', 'cherry']\n",
        "for fruit in fruits:\n",
        "    print(fruit)\n",
        "```\n",
        "\n",
        "#### 2. Range\n",
        "The `range()` function generates a sequence of numbers, which is often used in loops.\n",
        "```python\n",
        "for i in range(5):  # Generates numbers from 0 to 4\n",
        "    print(i)\n",
        "```\n",
        "\n",
        "> `range(start, stop, step)` allows customization of the range.\n",
        "\n",
        "\n",
        "You can get more detailed with the specification, like looping through different data types (`item in [1, 2, 3]` will give 1, 2, 3 for example).\n",
        "\n",
        "Multidimensional lists can take advantage of loops within loops, also called **nested loops**\n",
        "```python\n",
        "for i in range(3):\n",
        "    for j in range(2):\n",
        "        print(f\"i={i}, j={j}\")\n",
        "```\n"
      ],
      "metadata": {
        "id": "ouhQNly5_U_A"
      }
    },
    {
      "cell_type": "markdown",
      "source": [
        "**You will use a for loop combined with your data to generate the computed spectra.**\n",
        "\n",
        "You will need the `+=` operation, which adds a new value to the existing one and replaces that variable. In math terms,\n",
        "`X+=1` is equal to `X=X+1`\n",
        "\n",
        "This is useful in recursive algorithms and loops and other processes where you are compounding values or propagating numerical algorithms in time (e.g., diffusion)."
      ],
      "metadata": {
        "id": "TW3QzgTwCUc2"
      }
    },
    {
      "cell_type": "code",
      "source": [
        "# See what any of the for loops above do\n",
        "\n",
        "\n",
        "\n"
      ],
      "metadata": {
        "id": "nisfH5A1P1rc"
      },
      "execution_count": null,
      "outputs": []
    },
    {
      "cell_type": "code",
      "source": [
        "# See how the += operator works within a loop\n",
        "\n"
      ],
      "metadata": {
        "id": "-QmycfBzP6sQ"
      },
      "execution_count": null,
      "outputs": []
    },
    {
      "cell_type": "code",
      "source": [
        "# Define the linear space for your computed spectra (match the experimental range)\n",
        "X=\n",
        "\n",
        "#Start of with a list of zeros. You will use the += operation to add the contributions of each computed peak\n",
        "comp_spec=np.zeros(len(X))\n",
        "\n",
        "\n",
        "#Define the for loop\n"
      ],
      "metadata": {
        "id": "OvSwmTQxDGPc"
      },
      "execution_count": null,
      "outputs": []
    },
    {
      "cell_type": "code",
      "source": [
        "# Plot the computed spectra with the vertical lines representing your computed spectra\n",
        "\n",
        "\n",
        "\n"
      ],
      "metadata": {
        "id": "eMG9bMaXQAF7"
      },
      "execution_count": null,
      "outputs": []
    },
    {
      "cell_type": "markdown",
      "source": [
        "### 6.1.5 Custom Legends\n",
        "\n",
        "```python\n",
        "custom_lines = [Line2D([0], [0], color='C0', lw=3),\n",
        "                Line2D([0], [0], color='k', lw=3,)]\n",
        "ax1.legend(custom_lines, ['Computed', 'Experiment'],fontsize=20)\n",
        "```\n",
        "\n",
        "will generate a custom legend. In this case, the default blue (C0) and black (k) are used to label the computed and experimental spectra."
      ],
      "metadata": {
        "id": "hQ6KtcUHDHy3"
      }
    },
    {
      "cell_type": "code",
      "source": [
        "#Create lines for custom legends\n",
        "import matplotlib.lines as mlines\n",
        "from matplotlib.lines import Line2D"
      ],
      "metadata": {
        "id": "YV-O65qY-_BJ"
      },
      "execution_count": null,
      "outputs": []
    },
    {
      "cell_type": "markdown",
      "source": [
        "### 6.1.6 Plot the combined experimental and computed spectra\n",
        "\n",
        "Now combine everything to plot the combined experimental and computed spectra to make an image like the image below.\n",
        "\n",
        "![Fig6-7](https://drive.google.com/uc?id=1KhVfiQbxpcQ4peB0jHt1W0x5nPsCYs4C)"
      ],
      "metadata": {
        "id": "0_icjpsSDTkz"
      }
    },
    {
      "cell_type": "code",
      "source": [
        "# Include the for loop to loop through all twenty peaks\n"
      ],
      "metadata": {
        "id": "IyS3RM3j92Je"
      },
      "execution_count": null,
      "outputs": []
    },
    {
      "cell_type": "markdown",
      "source": [
        "## 6.2 Finite Well\n",
        "\n",
        "Consider a particle in a finite well model where\n",
        "\\begin{align}\n",
        "\tk_0 &= \\sqrt{\\dfrac{2m_e}{\\hbar}(V_0-E)}\\\\\n",
        "\tk_1 &= \\sqrt{\\dfrac{2m_eE}{\\hbar^2}}\n",
        "\\end{align}\n",
        "To determine the energy eigenvalues from the wavefunction, we begin the derivation where $\\Psi_\\text{I}(x)$ and $\\Psi_\\text{II}(x)$ must follow the boundary conditions at x=0, i.e., $\\Psi_\\text{I}(0)=\\Psi_\\text{II}(0)$ and $\\Psi'_\\text{I}(0)=\\Psi'_\\text{II}(0)$.\n",
        "\n",
        "\\begin{align}\n",
        "\tAe^{k_0(0)} &= Bsin(k_1*0)+Ccos(k_1*0)\\\\\n",
        "\tAk_0e^{k_0(0)} &= Bk_1cos(k_1*0)-Ck_1sin(k_1*0)\n",
        "\\end{align}\n",
        "\n",
        "By solving the system of Equations above,\n",
        "\n",
        "\\begin{align}\n",
        "\tC&=A\\\\\n",
        "\tB&=A\\frac{k_0}{k_1}\n",
        "\\end{align}\n",
        "\n",
        "At x=L, the system of equations containing $\\Psi(L)$ and $\\Psi'(L)$ is\n",
        "\n",
        "\\begin{align}\n",
        "\tDe^{-k_0L} &= Bsin(k_1L)+Ccos(k_1L) \\\\\n",
        "\tDe^{-k_0L} &= Bk_1cos(k_1L)-Ck_1sin(k_1L\n",
        "\\end{align}\n",
        "\n",
        "By algebra,\n",
        "\n",
        "\\begin{align}\n",
        "\tDk_0e^{-k_0L} &= A\\dfrac{k_0^2}{k_1}sin(k_1L)+Ak_0cos(k_1L)\\\\\n",
        "\tDk_0e^{-k_0L} &= -A\\dfrac{k_0}{k_1}k_1cos(k_1L)+Ak_1sin(k_1L))\n",
        "\\end{align}\n",
        "\n",
        "By equality, the above equations may be solved for the quantity $Dk_0e^{-k_0L}$\n",
        "\n",
        "\\begin{align}\n",
        "\t\\dfrac{k_0^2}{k_1}sin(k_1L)+k_0cos(k_1L) &= -k_0cos(k_1L)+k_1sin(k_1L)\\\\\n",
        "\tk_0^2sin(k_1L)+k_1k_0cos(k_1L) &= -k_1k_0cos(k_1L)+k_1^2sin(k_1L)\\\\\n",
        "\t2k_1k_0cos(k_1L) &= (k_1^2-k_0^2)sin(k_1L)\n",
        "\\end{align}\n",
        "\n",
        "\\begin{equation}\n",
        "\t2k_1k_0 = (k_1^2-k_0^2)tan(k_1L)\n",
        "\\end{equation}\n",
        "\n",
        "By substituting $k_0$ and $k_1$ into the above equation,\n",
        "\n",
        "\\begin{equation}\n",
        "\t2\\bigg(\\dfrac{2m_eE}{\\hbar^2}\\bigg)\\sqrt{E(V_0-E)} = \\bigg(\\dfrac{2m_eE}{\\hbar^2}-\\dfrac{2m_e(V_0-E)}{\\hbar^2}\\bigg)tan\\bigg(\\sqrt{\\dfrac{2m_eEL^2}{\\hbar^2}}\\bigg)\n",
        "\\end{equation}\n",
        "\n",
        "\\begin{equation}\n",
        "\t\\dfrac{2\\sqrt{E(V_0-E)}}{2E-V_0} = tan\\bigg(\\sqrt{\\dfrac{2m_eEL^2}{\\hbar^2}}\\bigg)\n",
        "\\end{equation}\n",
        "\n",
        "The values of $E$ where the two quantities in the above equation are equal correspond to the energy levels of the finite well. These functions can be plotted in Python to solve for all values of $E$.\n",
        "\n",
        "For this module, let\n",
        "\\begin{align}\n",
        "f(x) &= \\dfrac{2\\sqrt{E(V_0-E)}}{2E-V_0}\\\\\n",
        "g(x) &= tan\\bigg(\\sqrt{\\dfrac{2m_eEL^2}{\\hbar^2}}\\bigg)\n",
        "\\end{align}"
      ],
      "metadata": {
        "id": "ufR-9wSoFfyb"
      }
    },
    {
      "cell_type": "code",
      "source": [
        "import numpy as np\n",
        "import pandas as pd\n",
        "import matplotlib.pyplot as plt\n",
        "from scipy.optimize import fsolve"
      ],
      "metadata": {
        "id": "7G7r24YzFjPe"
      },
      "execution_count": 2,
      "outputs": []
    },
    {
      "cell_type": "markdown",
      "source": [
        "### 6.2.1 Define Constants and useful functions"
      ],
      "metadata": {
        "id": "fhYRBFcoFzPJ"
      }
    },
    {
      "cell_type": "code",
      "source": [
        "eV2J=1.60e-19 #J\n",
        "h=6.62606957e-34 #J*s\n",
        "hbar= h/(2*np.pi)\n",
        "me=9.11e-31 #kg\n",
        "\n",
        "# Define sample parameters\n",
        "V0 = 10 #eV\n",
        "LA= 1.0 #nm\n",
        "L=LA*1e-10 #m"
      ],
      "metadata": {
        "id": "JaiH-EB3Fllc"
      },
      "execution_count": 3,
      "outputs": []
    },
    {
      "cell_type": "code",
      "source": [
        "def f(Ei,V0):\n",
        "  '''Ei is in eV'''\n",
        "  '''V is in eV'''\n",
        "  E=Ei*eV2J\n",
        "  V=V0*eV2J\n",
        "  a=2*np.sqrt(E*(V-E))\n",
        "  b=2*E-V\n",
        "  return a/b\n",
        "\n",
        "def g(Ei,L):\n",
        "  '''Ei is in eV'''\n",
        "  E=Ei*eV2J\n",
        "  a=2*me*E*(L**2)\n",
        "  b= hbar**2\n",
        "  c=np.sqrt(a/b)\n",
        "  return np.tan(c)\n",
        "\n",
        "def j(x):\n",
        "  return f(x,V0)-g(x,L)\n",
        "\n",
        "def E_pib(n,L=10):\n",
        "  return (n**2)*(h**2)/(8*me*(L**2)*eV2J)\n",
        "\n",
        "def wavelength(a,b):\n",
        "  return h*2.998e8/((a-b)*eV2J)*1e9\n",
        "\n",
        "def intersections(X2,Y2,Z2):\n",
        "  roots_idx = np.argwhere(np.diff(np.sign(Y2-Z2)) != 0).flatten()\n",
        "  Xint = X2[roots_idx]\n",
        "  return Xint[1::2]"
      ],
      "metadata": {
        "id": "Rke9vCeIF9Pv"
      },
      "execution_count": 4,
      "outputs": []
    },
    {
      "cell_type": "code",
      "source": [
        "# Define sample parameters\n",
        "V0 = 12 #eV\n",
        "LA = 9.80234 #Angstrom\n",
        "\n",
        "def finite_well_plot(V0,LA):\n",
        "  L = LA*1e-10 #m\n",
        "  X = np.linspace(0.005,V0, 10000)\n",
        "  Y = f(X,V0)\n",
        "  Z = g(X,L)\n",
        "\n",
        "  # Filter the data to remove values approaching the asymptote\n",
        "  X2=X[np.abs(Z)<V0]\n",
        "  Y2=Y[np.abs(Z)<V0]\n",
        "  Z2=Z[np.abs(Z)<V0]\n",
        "\n",
        "  # Solve for the roots\n",
        "  intersections(X2,Y2,Z2).round(3)\n",
        "  Xint = fsolve(j,intersections(X2,Y2,Z2))\n",
        "\n",
        "  plt.plot(X2,Y2,'o',label='f(x)',markersize=1)\n",
        "  plt.plot(X2,Z2,'o',label='g(x)',markersize=1)\n",
        "  plt.plot(Xint,f(Xint,V0),'ko',label='Intersections',markersize=8)\n",
        "  plt.title('NOT NEEDED FOR LAB REPORT')\n",
        "  plt.xlim(0,10)\n",
        "  plt.ylim(-10,10)\n",
        "  plt.legend()\n",
        "  plt.show()\n",
        "\n",
        "  # Return the roots as the final answer\n",
        "  return Xint\n",
        "\n",
        "\n",
        "def finite_well(V0,LA):\n",
        "  L = LA*1e-10 #m\n",
        "  X = np.linspace(0.005,V0, 10000)\n",
        "  Y = f(X,V0)\n",
        "  Z = g(X,L)\n",
        "\n",
        "  # Filter the data to remove values approaching the asymptote\n",
        "  X2=X[np.abs(Z)<V0]\n",
        "  Y2=Y[np.abs(Z)<V0]\n",
        "  Z2=Z[np.abs(Z)<V0]\n",
        "\n",
        "  # Solve for the roots\n",
        "  intersections(X2,Y2,Z2).round(3)\n",
        "  Xint = fsolve(j,intersections(X2,Y2,Z2))\n",
        "\n",
        "  # Return the roots as the final answer\n",
        "  return Xint"
      ],
      "metadata": {
        "id": "t4Opv4WPIWtr"
      },
      "execution_count": 42,
      "outputs": []
    },
    {
      "cell_type": "markdown",
      "source": [
        "### 6.2.2 Finding $V_0$ and L\n",
        "\n",
        "\n",
        "\n",
        "1.   You will need to open the molecules in Chemcraft.\n",
        "2.   Get the distance between the N atoms by selecting the two N atoms.\n",
        "3.   Then select the C atoms on the outer edge of the N atoms; this distance will increase\n",
        "4.   Then deselect the N atoms to get the distance between the selected C atoms\n",
        "5.   This distance is the box length for your calculations.\n",
        "\n"
      ],
      "metadata": {
        "id": "eDnT_HovRmWL"
      }
    },
    {
      "cell_type": "code",
      "source": [
        "# Keep notes here\n",
        "\n",
        "\n"
      ],
      "metadata": {
        "id": "Q7t4uQ3EZA84"
      },
      "execution_count": null,
      "outputs": []
    },
    {
      "cell_type": "markdown",
      "source": [
        "### 6.2.3 Solving the intersections\n",
        "\n",
        "\n",
        "The fsolve function in Python is part of the scipy.optimize module and is used to find the roots of a system of nonlinear equations. It numerically solves the equation $f(x)=0$ where $f(x)$ is a callable function.\n",
        "\n",
        "Use the `finite_well()` function shown here to calculate the excitation wavelengths using a finite well.\n",
        "\n",
        "You will need the range of orbitals from HOMO-$n_1$ to LUMO+$n_2$ (where $n_1$ and $n_2$ are different orbital numbers relative to HOMO and LUMO) to calculate the well depth $V_0$. The length of the box will be the Euclidean distance between the $C$ atoms outside of the $N$ atoms in the chain. Take the chain between the $N$ atoms and add the carbons in the ring that form a linear chain."
      ],
      "metadata": {
        "id": "yfOHaVBRF7ta"
      }
    },
    {
      "cell_type": "code",
      "source": [
        "# Example\n",
        "finite_well_plot(12,9.80234)\n",
        "\n",
        "levels=finite_well(12,9.80234)\n",
        "print(levels)"
      ],
      "metadata": {
        "colab": {
          "base_uri": "https://localhost:8080/",
          "height": 469
        },
        "id": "b4G3ExMWHrfp",
        "outputId": "86e9da85-39ed-4996-8248-5cf3eb78c707"
      },
      "execution_count": 58,
      "outputs": [
        {
          "output_type": "display_data",
          "data": {
            "text/plain": [
              "<Figure size 640x480 with 1 Axes>"
            ],
            "image/png": "[encoded data removed]"
          },
          "metadata": {}
        },
        {
          "output_type": "stream",
          "name": "stdout",
          "text": [
            "[ 0.31488077  1.25592145  2.81102791  4.95436845  7.62932543 10.66353196]\n"
          ]
        }
      ]
    },
    {
      "cell_type": "code",
      "source": [
        "# Then use the wavelength function to calculate the excitation for each dye\n",
        "wavelength(4.95436845,2.81102791)"
      ],
      "metadata": {
        "colab": {
          "base_uri": "https://localhost:8080/"
        },
        "id": "X4Y_rk0VHu_a",
        "outputId": "2ce1471f-dd1f-431f-90ca-7dc51f2916fe"
      },
      "execution_count": 61,
      "outputs": [
        {
          "output_type": "execute_result",
          "data": {
            "text/plain": [
              "579.2638932116453"
            ]
          },
          "metadata": {},
          "execution_count": 61
        }
      ]
    },
    {
      "cell_type": "markdown",
      "source": [
        "# 6.2.4 Plotting the finite well\n",
        "\n",
        "This section is more for demonstration. You can use the values calculated from the finite well to figure out which energy eigenvalues should correspond to the calculated wavelength you are trying to calculate.\n",
        "\n",
        "**YOU DO NOT NEED THIS FIGURE FOR THE LAB REPORT**\n",
        "This is for a conceptual understanding of the finite well to help with the lab report and the concept. Just run the code as-is."
      ],
      "metadata": {
        "id": "qEPtOtdZV-3_"
      }
    },
    {
      "cell_type": "code",
      "source": [
        "# Define the wavefunctions in the various regions (I, II, III)\n",
        "\n",
        "# Tunneling wavefunction\n",
        "def Psi1(x,E):\n",
        "  k0=np.sqrt(2*me*(V0-E)*eV2J/hbar**2)\n",
        "  return np.exp(k0*x)\n",
        "\n",
        "# \"Wave\" Function\n",
        "def Psi2(x,E):\n",
        "  k0=np.sqrt(2*me*(V0-E)*eV2J/hbar**2)\n",
        "  k1=np.sqrt(2*me*E*eV2J/hbar**2)\n",
        "  return (k0/k1)*np.sin(k1*x)+np.cos(k1*x)\n",
        "\n",
        "# Tunneling wavefunction\n",
        "def Psi3(x,E):\n",
        "  k0=np.sqrt(2*me*(V0-E)*eV2J/hbar**2)\n",
        "  return np.exp(-k0*x)"
      ],
      "metadata": {
        "id": "IZZ9491kTr5b"
      },
      "execution_count": 25,
      "outputs": []
    },
    {
      "cell_type": "code",
      "source": [
        "# Insert your values for well depth (V0) and box length (LA) here\n",
        "\n",
        "V0 = 12 # eV\n",
        "LA = 9.80234 #Angstrom\n",
        "L = LA*1e-10 #m\n",
        "\n",
        "#Xint is the energy levels\n",
        "Xint=finite_well(V0,LA)"
      ],
      "metadata": {
        "id": "xi3xaMIzYAFi"
      },
      "execution_count": 55,
      "outputs": []
    },
    {
      "cell_type": "markdown",
      "source": [
        "Plot the energy level diagram with the wavefunctions\n",
        "\n",
        "**This is not needed for the report**"
      ],
      "metadata": {
        "id": "DFhIc8BRYTsO"
      }
    },
    {
      "cell_type": "code",
      "source": [
        "fig = plt.figure(figsize=(10,8))\n",
        "# Removes the axis from the plot\n",
        "plt.axis(False)\n",
        "\n",
        "# Redefine the box length as 1 and the space for plotting the wavefunction\n",
        "X1A=np.linspace(-L/2,0,1001)\n",
        "X2A=np.linspace(0,L,1001)\n",
        "X3A=np.linspace(L,3/2*L,1001)\n",
        "\n",
        "# Plots the first 5 wavefunctions in units of E in units of h^2/8mL^2 with the energy levels\n",
        "\n",
        "\n",
        "# Plot the potential\n",
        "plt.plot([0,0],[0,15],'k-',lw=4)\n",
        "plt.plot([L,L],[0,15],'k-',lw=4)\n",
        "plt.plot([0,L],[0,0],'k-',lw=4)\n",
        "plt.plot([-L/2,0],[15,15],'k-',lw=4)\n",
        "plt.plot([L,3/2*L],[15,15],'k-',lw=4)\n",
        "\n",
        "# Label the potential\n",
        "plt.text(0,-1.5,'0',horizontalalignment='center',fontsize=25)\n",
        "plt.text(L,-1.5,'L',horizontalalignment='center',fontsize=25)\n",
        "\n",
        "# Label the energy levels\n",
        "for i in range(len(Xint)):\n",
        "  plt.plot([L/4,3*L/4],[Xint[i],Xint[i]],label='E$_'+str(i+1)+'$',lw=2,color='gray')\n",
        "  plt.text(L/5,Xint[i],'E$_'+str(i+1)+'$',horizontalalignment='center',fontsize=16)\n",
        "\n",
        "# Label the regions\n",
        "plt.text(-L/4,12.5,'I',horizontalalignment='center',fontsize=25)\n",
        "plt.text(L/2,12.5,'II',horizontalalignment='center',fontsize=25)\n",
        "plt.text(5/4*L,12.5,'III',horizontalalignment='center',fontsize=25)\n",
        "plt.text(-0.6*L,15,'$V_0$',horizontalalignment='center',verticalalignment='center',fontsize=25)\n",
        "\n",
        "\n",
        "\n",
        "# Create a list of colors, one for each value in Xint\n",
        "cmap = plt.get_cmap('viridis')\n",
        "colors = [cmap(i) for i in np.linspace(0, 0.85, len(Xint))]\n",
        "\n",
        "#Plot the wavefunctions\n",
        "for i in range(len(Xint)):\n",
        "  plt.plot(X1A,Psi1(X1A,Xint[i])/2+Xint[i],color=colors[i],lw=2)\n",
        "  plt.plot(X2A,Psi2(X2A,Xint[i])/2+Xint[i],color=colors[i],lw=2)\n",
        "  if(abs(Psi2(X2A,Xint[i])[-1]-np.array(1/Psi3(L,Xint[i])*Psi3(X3A,Xint[i]))[0])>0.01):\n",
        "    plt.plot(X3A,-1/Psi3(L,Xint[i])*Psi3(X3A,Xint[i])/2+Xint[i],color=colors[i],lw=2)\n",
        "  else:\n",
        "    plt.plot(X3A,1/Psi3(L,Xint[i])*Psi3(X3A,Xint[i])/2+Xint[i],color=colors[i],lw=2)\n",
        "\n",
        "# Fit the graphs into the plot window\n",
        "plt.ylim(-1,17.5)\n",
        "plt.show()"
      ],
      "metadata": {
        "colab": {
          "base_uri": "https://localhost:8080/",
          "height": 676
        },
        "id": "JSYzXJtdTF7q",
        "outputId": "bec3e6e1-e8de-4e7b-d3ac-f3a053f7e2bc"
      },
      "execution_count": 56,
      "outputs": [
        {
          "output_type": "display_data",
          "data": {
            "text/plain": [
              "<Figure size 1000x800 with 1 Axes>"
            ],
            "image/png": "[encoded data removed]"
          },
          "metadata": {}
        }
      ]
    },
    {
      "cell_type": "code",
      "source": [],
      "metadata": {
        "id": "nSIfrqgSUHHB"
      },
      "execution_count": null,
      "outputs": []
    }
  ]
}