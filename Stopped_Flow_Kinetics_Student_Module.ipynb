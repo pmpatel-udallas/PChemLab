{
  "cells": [
    {
      "cell_type": "markdown",
      "metadata": {
        "id": "view-in-github",
        "colab_type": "text"
      },
      "source": [
        "<a href=\"https://colab.research.google.com/github/pmpatel-udallas/PChemLab/blob/main/Stopped_Flow_Kinetics_Student_Module.ipynb\" target=\"_parent\"><img src=\"https://colab.research.google.com/assets/colab-badge.svg\" alt=\"Open In Colab\"/></a>"
      ]
    },
    {
      "cell_type": "markdown",
      "metadata": {
        "id": "cqQHe3zzEwc_"
      },
      "source": [
        "# Stopped Flow Kinetics\n"
      ]
    },
    {
      "cell_type": "markdown",
      "metadata": {
        "id": "KKwRG2Yf2sx3"
      },
      "source": [
        "## Import Packages"
      ]
    },
    {
      "cell_type": "code",
      "execution_count": null,
      "metadata": {
        "id": "3W4x_m5oERYL"
      },
      "outputs": [],
      "source": [
        "import numpy as np\n",
        "from numpy import *\n",
        "import os,sys,re # Import regex\n",
        "import pandas as pd # DataFrame analysis\n",
        "\n",
        "# Plotting\n",
        "import matplotlib\n",
        "matplotlib.rcParams.update({'font.size': 20})\n",
        "import matplotlib.pyplot as plt\n",
        "\n",
        "from mpl_toolkits.axes_grid1.inset_locator import inset_axes\n",
        "from mpl_toolkits.mplot3d import Axes3D # 3D plots\n",
        "from matplotlib import cm # Colormaps\n",
        "from matplotlib.colors import ListedColormap, LinearSegmentedColormap\n",
        "from mpl_toolkits.axes_grid1 import make_axes_locatable\n",
        "\n",
        "#Inset figures into plots\n",
        "from matplotlib.offsetbox import TextArea, DrawingArea, OffsetImage, AnnotationBbox\n",
        "import matplotlib.image as mpimg\n",
        "\n",
        "#Create lines for custom legends\n",
        "import matplotlib.lines as mlines\n",
        "from matplotlib.lines import Line2D\n",
        "\n",
        "from glob import glob\n",
        "\n",
        "# Insert a progress bar to show the progress of the script\n",
        "!jupyter nbextension enable --py widgetsnbextension\n",
        "from tqdm.notebook import tqdm, tnrange, trange\n",
        "\n",
        "#Scipy Interpolation\n",
        "import scipy\n",
        "from scipy.interpolate import splrep, BSpline\n",
        "from scipy.misc import derivative\n",
        "from numpy import diff\n",
        "from scipy.signal import find_peaks\n",
        "\n",
        "#!pip install lmfit\n",
        "import lmfit"
      ]
    },
    {
      "cell_type": "markdown",
      "metadata": {
        "id": "ah8lDD0PRM2K"
      },
      "source": [
        "## 6.1 Import Data"
      ]
    },
    {
      "cell_type": "code",
      "execution_count": null,
      "metadata": {
        "id": "QW73jZv6YYeW"
      },
      "outputs": [],
      "source": [
        "# Include all 25 temperature. You can use the average, or try to plot the data at each temperature\n",
        "temps=np.array([[],\\\n",
        "       [],\\\n",
        "       [],\\\n",
        "       [],\\\n",
        "       []])\n",
        "\n",
        "temps=np.array([25.4,27.5,30,32.5,35])\n",
        "\n",
        "files=sorted(glob('*csv'))\n",
        "\n",
        "# Using dictionaries data to import the data and store the temp and run as the key\n",
        "data={}\n",
        "\n",
        "for i in range(len(files)):\n",
        "    data[files[i].split('\\\\')[-1].split(' ')[1]+\"-\"+files[i].split('\\\\')[-1].split(' ')[3].split('.')[0]]=\\\n",
        "    pd.read_csv(files[i],skiprows=[0])\n",
        "\n",
        "print(data.keys())\n",
        "keys=list(data.keys())"
      ]
    },
    {
      "cell_type": "code",
      "execution_count": null,
      "metadata": {
        "id": "k5cDxgyFYYeX"
      },
      "outputs": [],
      "source": [
        "# Display and plot the data for the first trial at 25C\n",
        "plt.plot(data['1-1'].s,data['1-1'].A)"
      ]
    },
    {
      "cell_type": "markdown",
      "metadata": {
        "id": "jftdem0-YYeY"
      },
      "source": [
        "## 6.2 Calculate the derivative\n",
        "\n",
        "Calculate the derivative and find the respective peaks. This will account for jumps in the data"
      ]
    },
    {
      "cell_type": "code",
      "execution_count": null,
      "metadata": {
        "id": "FA_opfj-YYeY"
      },
      "outputs": [],
      "source": [
        "X,y=data_sep(data,'1-1')\n",
        "\n",
        "#Determine A0 as the time (argmin) of the minimum absorbance (peak/valley of reaction)\n",
        "A0=\n",
        "\n",
        "#Only consider all data past A0\n",
        "X2=X[A0:]\n",
        "y2=y[A0:]\n",
        "\n",
        "#Consider the one index after A0 to plot the derivative\n",
        "X3=X2[1:]\n",
        "\n",
        "# Calculate the derivative numerically\n",
        "dy_dx=np.diff(y2)/np.diff(X2)\n",
        "\n",
        "#Plot the derivative\n",
        "plt.plot(X3,dy_dx)\n",
        "\n",
        "#Find the peaks of the derivative to identify major changes\n",
        "peaks, _ = find_peaks(dy_dx)\n",
        "peaks"
      ]
    },
    {
      "cell_type": "code",
      "execution_count": null,
      "metadata": {
        "id": "bxQOjdvVYYeZ"
      },
      "outputs": [],
      "source": [
        "#Filter dy_dx to include major peaks (above a set threshold)\n",
        "peaks[dy_dx[peaks]>0.05]"
      ]
    },
    {
      "cell_type": "code",
      "execution_count": null,
      "metadata": {
        "id": "luigP4IVYYeZ"
      },
      "outputs": [],
      "source": [
        "plt.plot(X[A0:A0+6],y[A0:A0+6])\n",
        "plt.plot(X[A0+13:A0+18],y[A0+13:A0+18])"
      ]
    },
    {
      "cell_type": "markdown",
      "metadata": {
        "id": "Y7egxiA-YYea"
      },
      "source": [
        "## 6.2 Create a fitting model\n",
        "\n",
        "Use an exponential model to fit the segmented data\n",
        "\n",
        "**How do we think this will relate to**\n",
        "$$ ln(A_\\infty - A) = -k_\\text{OBS}t + ln(A_\\infty - A_0)$$"
      ]
    },
    {
      "cell_type": "code",
      "execution_count": null,
      "metadata": {
        "id": "0jW60WF5YYea"
      },
      "outputs": [],
      "source": [
        "# Create an ex\n",
        "import lmfit\n",
        "\n",
        "# Define the exponential model function\n",
        "def exp_model(x, amp, decay, offset):\n",
        "    return amp * np.exp(-x / decay) + offset\n",
        "\n",
        "# Create a Model object from the function\n",
        "model = lmfit.Model(exp_model)\n",
        "\n",
        "# Prepare your data (x and y values)\n",
        "# Assuming combined_X and combined_y are your combined data\n",
        "combined_X = np.concatenate([X[A0+2:A0+8], X[A0+13:]])\n",
        "combined_y = np.concatenate([y[A0+2:A0+8], y[A0+13:]])\n",
        "\n",
        "Xexp = combined_X\n",
        "Yexp = combined_y\n",
        "\n",
        "# Set initial parameter values\n",
        "params = model.make_params(amp=1, decay=1, offset=0)\n",
        "\n",
        "# Perform the fit\n",
        "result = model.fit(Yexp, params, x=Xexp)\n",
        "\n",
        "# Plot the data and the fit\n",
        "plt.plot(Xexp, Yexp, 'o', label='data')\n",
        "plt.plot(X2,exp_model(X2,result.params['amp'].value,result.params['decay'].value,result.params['offset'].value),'-')"
      ]
    },
    {
      "cell_type": "markdown",
      "metadata": {
        "id": "aEqwMnwwYYea"
      },
      "source": [
        "### What does this do?"
      ]
    },
    {
      "cell_type": "code",
      "execution_count": null,
      "metadata": {
        "id": "yeoJnuAWYYeb"
      },
      "outputs": [],
      "source": [
        "print(result.fit_report())"
      ]
    },
    {
      "cell_type": "markdown",
      "metadata": {
        "id": "1wmbT8teYYeb"
      },
      "source": [
        "## 6.3 Find the slope\n",
        "\n",
        "Use the fitted data to get the observed rate ($k_\\text{OBS}$)\n",
        "\n",
        "$$ ln(A_\\infty - A) = -k_\\text{OBS}t + ln(A_\\infty - A_0)$$"
      ]
    },
    {
      "cell_type": "code",
      "execution_count": null,
      "metadata": {
        "id": "2UQeKYJ3YYeb"
      },
      "outputs": [],
      "source": [
        "yexp1=exp_model(X2,result.params['amp'].value,result.params['decay'].value,result.params['offset'].value)\n",
        "\n",
        "logy=np.log(max(yexp1)-yexp1)\n",
        "logy = logy[np.isfinite(logy)]\n",
        "\n",
        "plt.plot(X2,np.log(max(yexp1)-yexp1),'o-')\n",
        "\n",
        "lin=scipy.stats.linregress(X2[logy.index],logy)\n",
        "lin"
      ]
    },
    {
      "cell_type": "markdown",
      "metadata": {
        "id": "6DllUQfYYYeb"
      },
      "source": [
        "### Store the slope and stderr within a 2D list\n",
        "\n",
        "In the 2D list, the first list will be the slopes while the second list will store the standard error of the slopes\n",
        "\n",
        "```k25=[[],[]]```\n"
      ]
    },
    {
      "cell_type": "code",
      "execution_count": null,
      "metadata": {
        "id": "QnlN2dW9YYec"
      },
      "outputs": [],
      "source": []
    },
    {
      "cell_type": "markdown",
      "metadata": {
        "id": "f5PA81MSYYec"
      },
      "source": [
        "## 6.4 Use functions to search for optimal parameters\n",
        "\n",
        "Given the choppiness of the data, we can filter out the points based on the derivative to fit the likely exponential data.\n",
        "We will use functions to screen this effectively."
      ]
    },
    {
      "cell_type": "markdown",
      "metadata": {
        "id": "0rhPsMkqYYec"
      },
      "source": [
        "### Use these functions to test the data points"
      ]
    },
    {
      "cell_type": "code",
      "execution_count": null,
      "metadata": {
        "id": "o37N3MokYYec"
      },
      "outputs": [],
      "source": [
        "#Use these to screen the data points.\n",
        "def data_sep(data,runs):\n",
        "    return data[runs].s,data[runs].A\n",
        "\n",
        "\n",
        "def get_peaks(X,y):\n",
        "    ''' Plot the derivative to find breaks'''\n",
        "    X3=X2[1:]\n",
        "    dy_dx=np.diff(y2)/np.diff(X2)\n",
        "    plt.plot(X3,dy_dx)\n",
        "\n",
        "    from scipy.signal import find_peaks\n",
        "    peaks, _ = find_peaks(dy_dx)\n",
        "    return peaks\n",
        "\n",
        "def get_params(x1,x2,x3,x4=-1,X=X,A0=A0, y=y):\n",
        "    ''' x1, x2, and x3 are parameters past A0 to include in fitting'''\n",
        "    ''' A splitting between x2 and x3 is allowed for a linear break in between points'''\n",
        "\n",
        "    # Create a Model object from the function\n",
        "    model = lmfit.Model(exp_model)\n",
        "\n",
        "    # Prepare your data (x and y values)\n",
        "    # Assuming combined_X and combined_y are your combined data\n",
        "    combined_X = np.concatenate([X[A0+x1:A0+x2], X[A0+x3:x4]])\n",
        "    combined_y = np.concatenate([y[A0+x1:A0+x2], y[A0+x3:x4]])\n",
        "\n",
        "    plt.plot(X[A0+x1:A0+x2],y[A0+x1:A0+x2], 'ko', label='data1')\n",
        "    plt.plot(X[A0+x3:x4],y[A0+x3:x4], 'ro', label='data1')\n",
        "\n",
        "    Xexp = combined_X\n",
        "    Yexp = combined_y\n",
        "\n",
        "    # Set initial parameter values\n",
        "    params = model.make_params(amp=1, decay=1, offset=0)\n",
        "\n",
        "    # Perform the fit\n",
        "    result = model.fit(Yexp, params, x=Xexp)\n",
        "\n",
        "    # Print the fit results\n",
        "    print(result.fit_report())\n",
        "\n",
        "    # Plot the data and the fit\n",
        "    plt.plot(X2,exp_model(X2,result.params['amp'].value,result.params['decay'].value,result.params['offset'].value),'-')\n",
        "    plt.show()\n",
        "    Xexp1, yexp1 = X2, exp_model(X2,result.params['amp'].value,result.params['decay'].value,result.params['offset'].value)\n",
        "    logy=np.log(max(yexp1)-yexp1)\n",
        "    logy = logy[np.isfinite(logy)]\n",
        "\n",
        "    plt.plot(Xexp1,np.log(max(yexp1)-yexp1),'o')\n",
        "    lin=scipy.stats.linregress(X2[logy.index],logy)\n",
        "    plt.plot(Xexp1,lin.slope*Xexp1+lin.intercept,'k--',alpha=0.5)\n",
        "    #Return the fitted parameters from the exponential best fit\n",
        "    return lin.slope, lin.stderr"
      ]
    },
    {
      "cell_type": "markdown",
      "metadata": {
        "id": "jtbdNKsYYYec"
      },
      "source": [
        "### Use these for populating the lists\n",
        "These remove the plots, which are not necessary after the data points are selected"
      ]
    },
    {
      "cell_type": "code",
      "execution_count": null,
      "metadata": {
        "id": "ksCAlG2WYYed"
      },
      "outputs": [],
      "source": [
        "def data_sep(data,runs):\n",
        "    return data[runs].s,data[runs].A\n",
        "\n",
        "def get_peaks_noplot(X,y):\n",
        "    ''' Plot the derivative to find breaks'''\n",
        "    X3=X2[1:]\n",
        "    dy_dx=np.diff(y2)/np.diff(X2)\n",
        "    #plt.plot(X3,dy_dx)\n",
        "\n",
        "    from scipy.signal import find_peaks\n",
        "    peaks, _ = find_peaks(dy_dx)\n",
        "    return peaks\n",
        "\n",
        "def get_params_noplot(x1,x2,x3,x4=-1,X=X,A0=A0, y=y):\n",
        "    ''' x1, x2, and x3 are parameters past A0 to include in fitting'''\n",
        "    ''' A splitting between x2 and x3 is allowed for a linear break in between points'''\n",
        "\n",
        "    # Create a Model object from the function\n",
        "    model = lmfit.Model(exp_model)\n",
        "\n",
        "    # Prepare your data (x and y values)\n",
        "    # Assuming combined_X and combined_y are your combined data\n",
        "    combined_X = np.concatenate([X[A0+x1:A0+x2], X[A0+x3:x4]])\n",
        "    combined_y = np.concatenate([y[A0+x1:A0+x2], y[A0+x3:x4]])\n",
        "\n",
        "    Xexp = combined_X\n",
        "    Yexp = combined_y\n",
        "\n",
        "    # Set initial parameter values\n",
        "    params = model.make_params(amp=1, decay=1, offset=0)\n",
        "\n",
        "    # Perform the fit\n",
        "    result = model.fit(Yexp, params, x=Xexp)\n",
        "\n",
        "    Xexp1, yexp1 = X2, exp_model(X2,result.params['amp'].value,result.params['decay'].value,result.params['offset'].value)\n",
        "    logy=np.log(max(yexp1)-yexp1)\n",
        "    logy = logy[np.isfinite(logy)]\n",
        "\n",
        "    lin=scipy.stats.linregress(X2[logy.index],logy)\n",
        "    return lin.slope, lin.stderr"
      ]
    },
    {
      "cell_type": "markdown",
      "metadata": {
        "id": "RGRtTV4_YYed"
      },
      "source": [
        "#### For example"
      ]
    },
    {
      "cell_type": "code",
      "execution_count": null,
      "metadata": {
        "id": "CuCoXr1sYYed"
      },
      "outputs": [],
      "source": [
        "X,y=data_sep(data,'2-5')\n",
        "A0=np.argmin(y)\n",
        "X2=X[A0:]\n",
        "y2=y[A0:]\n",
        "\n",
        "plt.plot(X,y)\n",
        "plt.show()\n",
        "\n",
        "peaks = get_peaks(X,y)\n",
        "print(peaks+1)\n",
        "plt.show()\n",
        "\n",
        "k, ke = get_params(2,5,14,-1,X,A0,y)\n",
        "print(k)"
      ]
    },
    {
      "cell_type": "code",
      "execution_count": null,
      "metadata": {
        "id": "U9wn7r37YYed"
      },
      "outputs": [],
      "source": [
        "k25=[[],[]]\n",
        "\n",
        "X,y=data_sep(data,'1-1')\n",
        "A0=np.argmin(y)\n",
        "X2=X[A0:]\n",
        "y2=y[A0:]\n",
        "\n",
        "k, ke = get_params_noplot(2,8,13,-1,X,A0,y)\n",
        "\n",
        "k25[0].append(k)\n",
        "k25[1].append(ke)\n",
        "\n",
        "#-------------------------------\n",
        "X,y=data_sep(data,'1-2')\n",
        "A0=np.argmin(y)\n",
        "X2=X[A0:]\n",
        "y2=y[A0:]\n",
        "\n",
        "k, ke = get_params_noplot(2,4,6,-1,X,A0,y)\n",
        "\n",
        "k25[0].append(k)\n",
        "k25[1].append(ke)\n",
        "\n",
        "#-------------------------------\n",
        "X,y=data_sep(data,'1-3')\n",
        "A0=np.argmin(y)\n",
        "X2=X[A0:]\n",
        "y2=y[A0:]\n",
        "\n",
        "k, ke = get_params_noplot(1,3,3,A0+12,X,A0,y)\n",
        "\n",
        "k25[0].append(k)\n",
        "k25[1].append(ke)\n",
        "\n",
        "#-------------------------------\n",
        "X,y=data_sep(data,'1-4')\n",
        "A0=np.argmin(y)\n",
        "X2=X[A0:]\n",
        "y2=y[A0:]\n",
        "\n",
        "k, ke = get_params_noplot(4,7,7,-1,X,A0,y)\n",
        "\n",
        "k25[0].append(k)\n",
        "k25[1].append(ke)\n",
        "\n",
        "#-------------------------------\n",
        "X,y=data_sep(data,'1-5')\n",
        "A0=np.argmin(y)\n",
        "X2=X[A0:]\n",
        "y2=y[A0:]\n",
        "\n",
        "k, ke = get_params_noplot(2,7,7,A0+16,X,A0,y)\n",
        "\n",
        "k25[0].append(k)\n",
        "k25[1].append(ke)\n",
        "\n",
        "\n",
        "k25=np.array(k25)"
      ]
    },
    {
      "cell_type": "code",
      "execution_count": null,
      "metadata": {
        "id": "bVRAZPd0YYee"
      },
      "outputs": [],
      "source": [
        "# Repeat this for each set of temperatures"
      ]
    },
    {
      "cell_type": "code",
      "execution_count": null,
      "metadata": {
        "id": "2HoeXygBYYee"
      },
      "outputs": [],
      "source": []
    },
    {
      "cell_type": "markdown",
      "metadata": {
        "id": "9wrCM8tuYYee"
      },
      "source": [
        "## 6.5 Calculate $E_a$\n",
        "\n",
        "Plot $ln(k_\\text{OBS})$ vs. $\\dfrac{1}{T}$ to calculate $E_a$ via\n",
        "$$ln(k_{OBS}) = -\\dfrac{E_A}{R}*\\dfrac{1}{T} + ln A$$\n",
        "\n"
      ]
    },
    {
      "cell_type": "code",
      "execution_count": null,
      "metadata": {
        "id": "wqRm7gDYYYee"
      },
      "outputs": [],
      "source": []
    }
  ],
  "metadata": {
    "colab": {
      "collapsed_sections": [
        "eDnT_HovRmWL"
      ],
      "provenance": [],
      "include_colab_link": true
    },
    "kernelspec": {
      "display_name": "Python 3 (ipykernel)",
      "language": "python",
      "name": "python3"
    },
    "language_info": {
      "codemirror_mode": {
        "name": "ipython",
        "version": 3
      },
      "file_extension": ".py",
      "mimetype": "text/x-python",
      "name": "python",
      "nbconvert_exporter": "python",
      "pygments_lexer": "ipython3",
      "version": "3.9.15"
    }
  },
  "nbformat": 4,
  "nbformat_minor": 0
}