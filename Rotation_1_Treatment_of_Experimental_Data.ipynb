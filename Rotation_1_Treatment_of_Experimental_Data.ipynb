{
  "nbformat": 4,
  "nbformat_minor": 0,
  "metadata": {
    "colab": {
      "provenance": [],
      "toc_visible": true,
      "authorship_tag": "ABX9TyMDsXg4m+LFgYYWifG6kUGq",
      "include_colab_link": true
    },
    "kernelspec": {
      "name": "python3",
      "display_name": "Python 3"
    },
    "language_info": {
      "name": "python"
    }
  },
  "cells": [
    {
      "cell_type": "markdown",
      "metadata": {
        "id": "view-in-github",
        "colab_type": "text"
      },
      "source": [
        "<a href=\"https://colab.research.google.com/github/pmpatel-udallas/PChemLab/blob/main/Rotation_1_Treatment_of_Experimental_Data.ipynb\" target=\"_parent\"><img src=\"https://colab.research.google.com/assets/colab-badge.svg\" alt=\"Open In Colab\"/></a>"
      ]
    },
    {
      "cell_type": "markdown",
      "source": [
        "# Rotation 1: Treatment of Experimental Data\n",
        "\n"
      ],
      "metadata": {
        "id": "S3rKy8rbp-Mo"
      }
    },
    {
      "cell_type": "markdown",
      "source": [
        "## 0. Import Packages"
      ],
      "metadata": {
        "id": "131xXDlOqHIr"
      }
    },
    {
      "cell_type": "code",
      "execution_count": null,
      "metadata": {
        "id": "Kskv4Jkupyzj"
      },
      "outputs": [],
      "source": [
        "import numpy as np\n",
        "\n",
        "# Import plotting functions and customizing the font for plots\n",
        "import matplotlib\n",
        "import matplotlib.pyplot as plt\n",
        "matplotlib.rcParams.update({'font.size': 16})\n",
        "#matplotlib.rcParams.update({'font.family': 'Arial'})\n",
        "#matplotlib.rcParams.update({'mathtext.fontset' : 'custom'})\n",
        "\n",
        "# Import scipy packages for linear regression\n",
        "# Using asterisks is a way to import everything\n",
        "import scipy\n",
        "from scipy import stats\n",
        "from scipy.stats import *\n",
        "\n",
        "# Import the pandas dataframe package for Excel-like analysis\n",
        "import pandas as pd\n",
        "\n",
        "# Insert a progress bar to show the progress of the script\n",
        "# This is helpful for things that will take a while\n",
        "!pip install tqdm\n",
        "!jupyter nbextension enable --py widgetsnbextension\n",
        "from tqdm.notebook import tqdm, tnrange, trange"
      ]
    },
    {
      "cell_type": "markdown",
      "source": [
        "## 1. Analysis using DataFrames\n",
        "\n",
        "Dataframes work in 2 dimensions where you can do operations on each column and/or on each row.\n",
        "\n",
        "This is denoted by using the dataframe name (e.g., data1) and then the operation (mean, std, sum, etc.). In the parentheses part of the operation, there are two options.\n",
        "\n",
        "```\n",
        "axis=0 # Operations along the column\n",
        "axis=1 # Operations along the row\n",
        "```\n",
        "\n",
        "See the below sections for an example of calculating the mean."
      ],
      "metadata": {
        "id": "kiBxyO7LrFHT"
      }
    },
    {
      "cell_type": "code",
      "source": [
        "# Replace the 'PChem 1 Lab Data.xlsx with your data\n",
        "# Replace 'Pandas' with one of your data sheets\n",
        "data1=pd.read_excel('PChem 1 Lab Data.xlsx',sheet_name='Pandas')\n",
        "data1"
      ],
      "metadata": {
        "id": "QbATVY6srniY"
      },
      "execution_count": null,
      "outputs": []
    },
    {
      "cell_type": "code",
      "source": [
        "data1.mean(axis=0)"
      ],
      "metadata": {
        "id": "ofOw8gkXtySs"
      },
      "execution_count": null,
      "outputs": []
    },
    {
      "cell_type": "code",
      "source": [
        "data1.mean(axis=1)"
      ],
      "metadata": {
        "id": "qQ54JC0FuinN"
      },
      "execution_count": null,
      "outputs": []
    },
    {
      "cell_type": "markdown",
      "source": [
        "**Calculate the standard deviation of data1**\n",
        "\n",
        "* Use the std function in the same way mean is used above\n",
        "* Which axis (axis=0 or axis=1) will you calculate the standard deviation?\n",
        "\n",
        "\n",
        "> Hint: You will need to include the ddof=1 option to have your standard deviation in Python match the numbers you get in Excel for the standard deviation of the sample. By default, the standard deviation calculated is that of the population."
      ],
      "metadata": {
        "id": "lXFPRxMUwKhN"
      }
    },
    {
      "cell_type": "code",
      "source": [],
      "metadata": {
        "id": "UpjqeE9lwJ5Z"
      },
      "execution_count": null,
      "outputs": []
    },
    {
      "cell_type": "markdown",
      "source": [
        "### 1.1 t-test function\n",
        "\n",
        "Define the two-tailed t-test function using the lambda function tool.\n",
        "\n",
        "> Lambda functions define functions of multiple variables, but only output a single value\n",
        "\n",
        "Run this function once and you will be able to calculate the t-test value at any point afterwards by typing in ```tinv(p,df)```\n",
        "\n",
        "You can also just change the value here and keep it constant for the rest of the notebook.\n",
        "\n"
      ],
      "metadata": {
        "id": "m88H5h2f3t62"
      }
    },
    {
      "cell_type": "code",
      "source": [
        "# p = probability (5% or 0.05)\n",
        "# df = degrees of freedom\n",
        "\n",
        "tinv = lambda p, df: abs(t.ppf(p/2, df))\n",
        "\n",
        "######\n",
        "# Equivalent notation\n",
        "#def tinv(p,df):\n",
        "#    return abs(t.ppf(p/2,df))\n",
        "######\n",
        "\n",
        "ts2 = tinv(0.05, 50)\n",
        "ts2"
      ],
      "metadata": {
        "id": "5vBdAym4b9tc"
      },
      "execution_count": null,
      "outputs": []
    },
    {
      "cell_type": "markdown",
      "source": [
        "### 1.2 Mean and standard deviation\n",
        "\n",
        "**Calculate the mean and standard deviation of all your data**\n",
        "\n",
        "Use copy and paste to save time in replicating text.\n",
        "\n",
        "> On windows: **Alt+Shift (hold)** activates multi line cursor mode\n",
        "\n",
        "> On Mac: **Option+Shift (hold)** activates multi line cursor mode\n",
        "\n",
        "Multi line cursor mode allow one to edit multiple lines of text at the same time."
      ],
      "metadata": {
        "id": "1fjqm_2B4pJr"
      }
    },
    {
      "cell_type": "markdown",
      "source": [
        "#### Spreadsheet Option 1 (3 measurements)\n",
        "If your Excel sheet names follow\n",
        "\n",
        "20, 19, 18, 17, 16, 15, ..."
      ],
      "metadata": {
        "id": "fKCVRP55__kj"
      }
    },
    {
      "cell_type": "markdown",
      "source": [
        "Define a variable for each volume\n",
        "```\n",
        "vol20=pd.read_excel('file.xlsx',sheet_name='')\n",
        "vol19=...\n",
        "```\n",
        "\n",
        "You can choose the name of the variables used to define each volume, but it has to start with a letter.\n",
        "\n",
        "> Remember how to calculate the uncertainty of the reciprocal pressure when doing the standard deivation calculations\n",
        "\n",
        "> Also remember we are calculating reciprocal pressure..."
      ],
      "metadata": {
        "id": "HHO6bQN2g55p"
      }
    },
    {
      "cell_type": "code",
      "source": [
        "# Import each volume measurement by using pd.read_excel('file.xlsx', sheet_name='20')\n",
        "# You will need quotes for the text of the sheet name to match your sheet name\n",
        "\n",
        "\n",
        "\n",
        "\n",
        "\n",
        "\n",
        "\n"
      ],
      "metadata": {
        "id": "os7U2wd-_-Jj"
      },
      "execution_count": null,
      "outputs": []
    },
    {
      "cell_type": "code",
      "source": [
        "# Calculate the mean for each volume along the appropriate axis"
      ],
      "metadata": {
        "id": "4nyRi1DEggKn"
      },
      "execution_count": null,
      "outputs": []
    },
    {
      "cell_type": "code",
      "source": [
        "# Calculate the standard deviation for each volume\n",
        "\n",
        "\n",
        "\n"
      ],
      "metadata": {
        "id": "mESNCgMrgcvf"
      },
      "execution_count": null,
      "outputs": []
    },
    {
      "cell_type": "code",
      "source": [
        "# Compute the 95% confidence interval by using the appropriate t value\n"
      ],
      "metadata": {
        "id": "0tKekkccgamt"
      },
      "execution_count": null,
      "outputs": []
    },
    {
      "cell_type": "code",
      "source": [
        "# To plot the values, you will need to create an array of the means and\n",
        "# standard deviations. Use the np.array() function to do this.\n",
        "\n",
        "\n",
        "\n",
        "\n",
        "\n"
      ],
      "metadata": {
        "id": "mwcC-MSTgYWx"
      },
      "execution_count": null,
      "outputs": []
    },
    {
      "cell_type": "code",
      "source": [
        "# If you have three separate columns, how can you get the average of the averages?\n",
        "# Can you use the same axis=0 or axis=1 notation?\n"
      ],
      "metadata": {
        "id": "a9ZzW0mz5GmS"
      },
      "execution_count": null,
      "outputs": []
    },
    {
      "cell_type": "code",
      "source": [
        "# You will also need an array of the measured volumes for linear fits.\n",
        "# Do you need three separate arrays/lists for the volumes?\n",
        "\n",
        "\n"
      ],
      "metadata": {
        "id": "hTVQM7IpgSn7"
      },
      "execution_count": null,
      "outputs": []
    },
    {
      "cell_type": "markdown",
      "source": [
        "#### Spreadsheet Option 2 (3 trials)\n",
        "If your Excel sheet names follow:\n",
        "\n",
        "Trial 1, Trial 2, Trial 3"
      ],
      "metadata": {
        "id": "SagVyHVPAlBI"
      }
    },
    {
      "cell_type": "markdown",
      "source": [
        "Define a variable for each trial\n",
        "```\n",
        "trial1= pd.read_excel(..., sheet_name='')\n",
        "trial2= ...\n",
        "trial3= ...\n",
        "```\n",
        "\n",
        "> Remember how to calculate the uncertainty of the reciprocal pressure when doing the standard deivation calculations.\n",
        "\n",
        "> Also remember we are calculating reciprocal pressure..."
      ],
      "metadata": {
        "id": "i8AOX-uthBF2"
      }
    },
    {
      "cell_type": "code",
      "source": [
        "# Import each trial by using pd.read_excel('file.xlsx', sheet_name='Trial 1')\n",
        "# You will need quotes for the text of the sheet name to match your sheet name\n",
        "\n",
        "\n",
        "\n",
        "\n",
        "\n",
        "\n"
      ],
      "metadata": {
        "id": "IqLL5GfX5LMt"
      },
      "execution_count": null,
      "outputs": []
    },
    {
      "cell_type": "code",
      "source": [
        "# Calculate the mean for each trial along each appropriate axis\n"
      ],
      "metadata": {
        "id": "5dO0cEkhf3XF"
      },
      "execution_count": null,
      "outputs": []
    },
    {
      "cell_type": "code",
      "source": [
        "# Calculate the standard deviation for each trial\n"
      ],
      "metadata": {
        "id": "Ms6h5Uyef421"
      },
      "execution_count": null,
      "outputs": []
    },
    {
      "cell_type": "code",
      "source": [
        "# Compute the 95% confidence interval by using the appropriate t value\n",
        "\n"
      ],
      "metadata": {
        "id": "OWnHrgnAf6SO"
      },
      "execution_count": null,
      "outputs": []
    },
    {
      "cell_type": "code",
      "source": [
        "# To plot the values, you will need to create an array of the means and\n",
        "# standard deviations. Use the np.array() function to do this.\n",
        "\n",
        "\n",
        "\n"
      ],
      "metadata": {
        "id": "RljUeFsWf9wx"
      },
      "execution_count": null,
      "outputs": []
    },
    {
      "cell_type": "code",
      "source": [
        "# You will also need an array of the measured volumes for linear fits.\n",
        "# Do you need three separate arrays/lists for the volumes?\n",
        "# Can you use the columns as the aray of measured volumes?\n",
        "\n",
        "\n"
      ],
      "metadata": {
        "id": "1pFySwobgBNl"
      },
      "execution_count": null,
      "outputs": []
    },
    {
      "cell_type": "markdown",
      "source": [
        "### 1.2 Linear Regression\n",
        "\n",
        "Use the ``scipy.stats.linregress()`` function as we used before for linear regressions."
      ],
      "metadata": {
        "id": "wFktu2CX2xsa"
      }
    },
    {
      "cell_type": "markdown",
      "source": [
        "What are we trying to plot?\n",
        "\n",
        "\n",
        "**What is the independent variable? What is the dependent variable?**"
      ],
      "metadata": {
        "id": "R_cJvQJjeQcH"
      }
    },
    {
      "cell_type": "code",
      "source": [
        "# Save the scipy.stats.linregress() results to a new variable.\n",
        "# We used a version of best_fit. Feel free to use whatever name you want.\n",
        "# Save the slope, intercept, slope error, intercept error, and r^2\n",
        "# as separate variables from the best fit line\n",
        "\n"
      ],
      "metadata": {
        "id": "R7c0C2yY3i3v"
      },
      "execution_count": null,
      "outputs": []
    },
    {
      "cell_type": "code",
      "source": [
        "# Create the base plot of inverse pressure vs. volume\n",
        "\n",
        "fig = plt.figure()\n",
        "\n",
        "\n",
        "\n",
        "\n",
        "fig.savefig('image.png',dpi=300,bbox_inches='tight')"
      ],
      "metadata": {
        "id": "eZVmVDRzlTQG"
      },
      "execution_count": null,
      "outputs": []
    },
    {
      "cell_type": "markdown",
      "source": [
        "### 1.3 Errorbar plots\n",
        "\n",
        "Use the ``plt.errorbar`` function to plot the best fit line with error bars. Find examples of how to use the syntax to help you create error bar plots. For time, feel free to skip this for now and tackle this when you are ready."
      ],
      "metadata": {
        "id": "SUcsrZG84R8i"
      }
    },
    {
      "cell_type": "code",
      "source": [
        "# Create a linear space for volume np.linspace(start, end, number of points)\n",
        "\n",
        "# Use the slope and intercept to linearly transform x to y\n",
        "\n",
        "\n",
        "\n",
        "\n",
        "\n",
        "\n",
        "# For axes labels, the $...$ notation helps with superscipt/subscript for axis labels\n",
        "# $^$ is superscript while $_$ is subscript\n",
        "# {} are needed if there is more than one character being superscript/subscript\n",
        "# See the labels below for what you should be plotting\n",
        "plt.xlabel('V (cm$^3$)')\n",
        "plt.ylabel('1/P (kPa$^{-1}$)')\n"
      ],
      "metadata": {
        "id": "BlXQcgzq4RWf"
      },
      "execution_count": null,
      "outputs": []
    },
    {
      "cell_type": "markdown",
      "source": [
        "### 1.4 Graphical Error\n",
        "\n",
        "If you want to create a plot that fills the space between two lines to visualize the graphical error of the best fits, use the ```plt.fill_between(x, y1, y2, color='grey', alpha=0.1)``` function. This will replicate the figures in the lab manual.\n",
        "\n",
        "*Change the color and transparency (alpha value) as needed for aesthetics.*"
      ],
      "metadata": {
        "id": "iYkga8IDhgQf"
      }
    },
    {
      "cell_type": "code",
      "source": [
        "# Use the plt.fill_between() to represent the possible values that fit\n",
        "# within the errors in volume and reciprocal pressure\n",
        "\n",
        "\n",
        "\n"
      ],
      "metadata": {
        "id": "LqLqNZfIivEK"
      },
      "execution_count": null,
      "outputs": []
    },
    {
      "cell_type": "markdown",
      "source": [
        "### 1.5 Calculate V$_\\text{fixed}$"
      ],
      "metadata": {
        "id": "F6Qy7LKebijr"
      }
    },
    {
      "cell_type": "code",
      "source": [
        "# Calculate V_fixed as done in the pre-lab using the results from 1.3 and 1.4\n",
        "\n",
        "\n"
      ],
      "metadata": {
        "id": "AVogVQh3bnzv"
      },
      "execution_count": null,
      "outputs": []
    },
    {
      "cell_type": "markdown",
      "source": [
        "## 2. Monte Carlo Sampling\n",
        "\n",
        "Monte Carlo simulations use random sampling to obtain numerical results.\n",
        "\n",
        "In PChem research, Monte Carlo sampling is often used to sample various thermodynamic ensembles of molecules in a gas or solvated environment to predict thermodynamic and kinetic properties. For example, kinetic Monte Carlo (kMC) can be used to facilitate the thermodynamic understanding of a reaction profile to numerically calculate kinetic profiles. Grand canonical Monte Carlo (GCMC) is a statistical mechanical model in which a rigorous molecular-level model of adsorption is solved exactly. GCMC is usually used to computationally study adsorption of small molecules into the pores of metal organic frameworks.\n",
        "\n",
        "In this lab, we are using Monte Carlo techniques to predict the best fit lines of data points that lie within the error bounds obtained through measurement. In other words,\n",
        "**how does the error affect the best fit lines and can Monte Carlo approximate the graphical error obtained through the extremes of the slope and intercept?**"
      ],
      "metadata": {
        "id": "pp4924aIqaa7"
      }
    },
    {
      "cell_type": "markdown",
      "source": [
        "### 2.1 A quick example\n",
        "\n",
        "Predict the area of a circle by using the ratio of points that lie within a circle that is enclosed in a square.\n",
        "For a distance r, since\n",
        "$$A_{circle}=\\pi r^2$$\n",
        "$$A_{square} = 4r^2$$\n",
        "\n",
        "Then,\n",
        "\n",
        "$$ 4 * \\dfrac{A_{circle}}{A_{square}} = 4 * \\dfrac{\\pi r^2}{4r^2} = \\pi $$\n",
        "\n",
        "Therefore, we can estimate $\\pi$ using a Monte Carlo sampling of the ratio between the number of points that lie within a circle and within a square (unit distance)"
      ],
      "metadata": {
        "id": "G7E06iyjqk57"
      }
    },
    {
      "cell_type": "code",
      "source": [
        "# Define the number of points in a circle and square\n",
        "circle_points = 0\n",
        "square_points = 0\n",
        "\n",
        "# Define the intervals\n",
        "INTERVAL=[1e2+1, 1e3+1, 1e4+1, 1e5+1, 1e6+1, 1e7+1, 2e7+1]\n",
        "\n",
        "# Drawing the circle\n",
        "Xspace = np.linspace(-1,1,20001)\n",
        "Yspace = np.sqrt(1-Xspace**2)\n",
        "\n",
        "# Run a loop over all possible values\n",
        "for i in tnrange(len(INTERVAL)):\n",
        "    #Generate the number of sampling points\n",
        "    rand_x = np.random.uniform(-1,1,int(INTERVAL[i]))\n",
        "    rand_y = np.random.uniform(-1,1,int(INTERVAL[i]))\n",
        "\n",
        "    # Calculate the distance of (x,y) to origin\n",
        "    origin_dist = rand_x**2 + rand_y**2\n",
        "\n",
        "    # Checking if (x,y) lies within the circle using the np.where() function, which returns elements\n",
        "\n",
        "    cond = np.where(origin_dist<=1)\n",
        "    cond2= np.array(sorted(list(set(np.arange(INTERVAL[i],dtype=int))-set(cond[0]))))\n",
        "    # Computing the number of points inside the circle\n",
        "    circle_points = len(cond[0])\n",
        "\n",
        "    #Computing the number of points inside the square (includes inside the circle) -- all the points\n",
        "    square_points = INTERVAL[i]\n",
        "\n",
        "    # Plot the circle points and square points\n",
        "    fig = plt.figure(figsize=(5,5))\n",
        "    plt.plot(rand_x[cond],rand_y[cond],'o',markersize=0.75,color='#1A3F70')\n",
        "    plt.plot(rand_x[cond2],rand_y[cond2],'o',markersize=0.75,color='#D8B266')\n",
        "    plt.plot(Xspace,Yspace,'k')\n",
        "    plt.plot(Xspace,-Yspace,'k')\n",
        "    plt.show()\n",
        "\n",
        "    # Estimate pi from Monte Carlo simulations\n",
        "    pi_est = 4 * circle_points/square_points\n",
        "    print('Estimate of pi using '+str(int(INTERVAL[i]))+' points:','%0.6f'%pi_est)\n"
      ],
      "metadata": {
        "id": "GZFeClkBqZLk"
      },
      "execution_count": null,
      "outputs": []
    },
    {
      "cell_type": "markdown",
      "source": [
        "**Discuss as a group what you think was happening in this demonstration?**"
      ],
      "metadata": {
        "id": "ALAqsyP2kR3m"
      }
    },
    {
      "cell_type": "markdown",
      "source": [
        "--Text annotation answer can go here--"
      ],
      "metadata": {
        "id": "fY64URlmkW2V"
      }
    },
    {
      "cell_type": "markdown",
      "source": [
        "### 2.2 Now you do it\n",
        "\n",
        "Grab your data values and replace the green comments in the cell below with your values. Then run the cell below to run the Monte Carlo."
      ],
      "metadata": {
        "id": "tW3FrhMl6c2h"
      }
    },
    {
      "cell_type": "code",
      "source": [
        "DATAmean=#include the combined array for reciprocal pressure\n",
        "DATAstd=#calculate the 95% CI (ts2*std)\n",
        "ts2=#include the value of student t used\n",
        "X1=#array of volumes\n",
        "\n",
        "# Use the best fit parameters as the base line\n",
        "best_fit=scipy.stats.linregress(X1,DATAmean)"
      ],
      "metadata": {
        "id": "Kg9HGRNt6pk4"
      },
      "execution_count": null,
      "outputs": []
    },
    {
      "cell_type": "markdown",
      "source": [
        "\n",
        "**In your lab report, you will be responsible for interpreting the functionality of this Monte Carlo code**"
      ],
      "metadata": {
        "id": "yuaQtrh77szu"
      }
    },
    {
      "cell_type": "code",
      "source": [
        "# Run 10K (or 100K) best fit line data points – Monte Carlo\n",
        "points=10000\n",
        "stats=[]\n",
        "data_pts=[]\n",
        "\n",
        "# Generates the same random numbers for reproducibility using a random seed (any integer).\n",
        "np.random.seed(10)\n",
        "\n",
        "# Uses a progress bar (tqdm) to show how calculation is proceeding\n",
        "with tqdm(total= points, desc='Calculating Best Fit Lines') as pbar:\n",
        "    for i in range(points):\n",
        "\n",
        "        # What do you think this will do?\n",
        "        X3=X1+np.random.normal(0,0.05,11)\n",
        "\n",
        "        # Sets the randomly selected pressures from your data using a normal distribution\n",
        "        Y3=np.array(DATAmean+np.random.normal(loc=0, scale=DATAstd/ts2, size=(11)))\n",
        "\n",
        "        res1 = scipy.stats.linregress(X3, Y3) # Calculates the best fit line parameters\n",
        "        ts1 = tinv(0.05, len(X3)-2) # Calculates the student-t value\n",
        "\n",
        "        # Append all your data to a spreadsheet like document\n",
        "        data_pts.append([X3,Y3])\n",
        "        stats.append([res1.slope, ts1*res1.stderr, res1.intercept, ts1*res1.intercept_stderr])\n",
        "        pbar.update(1) # Updates the progress bar\n",
        "\n",
        "pd.DataFrame(stats).to_csv('MonteCarlo_v1.csv')"
      ],
      "metadata": {
        "id": "BmFSk-lN7D_k"
      },
      "execution_count": null,
      "outputs": []
    },
    {
      "cell_type": "code",
      "source": [
        "stats=pd.read_csv('MonteCarlo_v1.csv',index_col=0)\n",
        "MC_stats_df=pd.DataFrame(stats)\n",
        "MC_stats_df.columns=['Slope','Slope Error','Intercept','Intercept Error']\n",
        "MC_stats_df"
      ],
      "metadata": {
        "id": "JKoig9g37N3T"
      },
      "execution_count": null,
      "outputs": []
    },
    {
      "cell_type": "code",
      "source": [
        "plt.plot(MC_stats_df['Slope'],MC_stats_df['Intercept'],'o',color='grey',alpha=0.1)\n",
        "plt.plot(best_fit.slope, best_fit.intercept,'bo')\n",
        "plt.ticklabel_format(axis='both', style='sci', scilimits=(-4,4))\n",
        "plt.xlabel('Slopes (kPa$^{-1}$ cm$^{-3}$)')\n",
        "plt.ylabel('Intercepts (kPa$^{-1}$)')\n",
        "plt.show()"
      ],
      "metadata": {
        "id": "g1BpHFHD76oy"
      },
      "execution_count": null,
      "outputs": []
    },
    {
      "cell_type": "markdown",
      "source": [
        "**What do you think the Monte Carlo data is showing in terms of modeling uncertanity?**"
      ],
      "metadata": {
        "id": "2IJAS2WxbxEw"
      }
    },
    {
      "cell_type": "markdown",
      "source": [
        "-- Put your notes here--"
      ],
      "metadata": {
        "id": "i8Nip0Fgb277"
      }
    }
  ]
}